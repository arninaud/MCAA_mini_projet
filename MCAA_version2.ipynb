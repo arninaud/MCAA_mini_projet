{
 "cells": [
  {
   "cell_type": "markdown",
   "metadata": {},
   "source": [
    "## Imports ##"
   ]
  },
  {
   "cell_type": "code",
   "execution_count": 1,
   "metadata": {},
   "outputs": [],
   "source": [
    "import numpy as np\n",
    "import pandas as pd\n",
    "import math\n",
    "import sys\n",
    "from numpy import random\n",
    "from numpy import linalg\n",
    "import matplotlib.pyplot as plt"
   ]
  },
  {
   "cell_type": "markdown",
   "metadata": {},
   "source": [
    "## Input ##"
   ]
  },
  {
   "cell_type": "code",
   "execution_count": 2,
   "metadata": {},
   "outputs": [],
   "source": [
    "n_row = 4000\n",
    "n_col = 1000\n",
    "possibilities = [-1.0, 1.0]"
   ]
  },
  {
   "cell_type": "code",
   "execution_count": 3,
   "metadata": {},
   "outputs": [],
   "source": [
    "W = np.random.normal(size = (n_row, n_col)) \n",
    "X = np.random.choice(possibilities, n_col)\n",
    "Y = np.maximum((np.dot(W, X)/math.sqrt(n_col)), 0)\n",
    "T = 0.1\n",
    "B = 1/T\n",
    "n_iter = 10000\n",
    "N = 100"
   ]
  },
  {
   "cell_type": "markdown",
   "metadata": {},
   "source": [
    "## Helper functions ##"
   ]
  },
  {
   "cell_type": "code",
   "execution_count": 4,
   "metadata": {},
   "outputs": [],
   "source": [
    "def energy(vector):\n",
    "    dot = np.dot(W, vector)\n",
    "    diff = Y - np.maximum(0, dot) / math.sqrt(n_col)\n",
    "    return diff.T.dot(diff)"
   ]
  },
  {
   "cell_type": "code",
   "execution_count": 5,
   "metadata": {},
   "outputs": [],
   "source": [
    "def error(vector):\n",
    "    diff = vector - X\n",
    "    return diff.T.dot(diff)/(4*n_col)"
   ]
  },
  {
   "cell_type": "code",
   "execution_count": 6,
   "metadata": {},
   "outputs": [],
   "source": [
    "def get_loss_category(loss):\n",
    "    if loss >= 0.5:\n",
    "        return '>0.5'\n",
    "    elif loss < 0.5 and loss >= 0.4:\n",
    "        return '0.5-0.4'\n",
    "    elif loss < 0.4 and loss >= 0.3:\n",
    "        return '0.4-0.3'\n",
    "    elif loss < 0.3 and loss >= 0.2:\n",
    "        return '0.3-0.2'\n",
    "    elif loss < 0.2 and loss >= 0.1:\n",
    "        return '0.2-0.1'\n",
    "    elif loss < 0.1 and loss >= 0.05:\n",
    "        return '0.1-0.05'\n",
    "    elif loss < 0.05 and loss >= 0.01:\n",
    "        return '0.05-0.01'\n",
    "    elif loss < 0.01:\n",
    "        return '<0.01'\n",
    "    else:\n",
    "        print(\"Y a comme une couille: loss = {}\".format(loss))"
   ]
  },
  {
   "cell_type": "code",
   "execution_count": 7,
   "metadata": {},
   "outputs": [],
   "source": [
    "def Metropolis_chain(dim, n_iter, B, threshold, rate):\n",
    "    print(\"Metropolis with initial B: {} , threshold : {} , rate: {}\".format(B, threshold, rate))\n",
    "    loss_dict = {'>0.5':0, '0.5-0.4':0, '0.4-0.3':0, '0.3-0.2':0, '0.2-0.1':0, '0.1-0.05':0, '0.05-0.01':0, '<0.01':0}\n",
    "    test = np.random.choice(possibilities, dim)\n",
    "    errors = np.zeros(n_iter)\n",
    "    iter_increase = n_iter * threshold\n",
    "    for _iter in range(n_iter):\n",
    "        if _iter > iter_increase:\n",
    "            B = B*rate\n",
    "        to_flip = np.random.randint(0, dim)\n",
    "        to_test = test.copy()\n",
    "        to_test[to_flip] = -to_test[to_flip]\n",
    "        proba = np.minimum(1, np.exp(-B*(energy(to_test)-energy(test))))\n",
    "        if random.random() < proba:\n",
    "            test = to_test\n",
    "            \n",
    "        err = error(test)\n",
    "        errors[_iter] = err\n",
    "        loss_categ = get_loss_category(err)\n",
    "        loss_dict[loss_categ] += 1\n",
    "    print(loss_dict)\n",
    "    return np.array(errors), loss_dict, B, threshold, rate"
   ]
  },
  {
   "cell_type": "code",
   "execution_count": 228,
   "metadata": {},
   "outputs": [
    {
     "name": "stdout",
     "output_type": "stream",
     "text": [
      "Metropolis with initial B: 2 , threshold : 0.43333 , rate: 1.4\n"
     ]
    },
    {
     "ename": "KeyboardInterrupt",
     "evalue": "",
     "output_type": "error",
     "traceback": [
      "\u001b[0;31m---------------------------------------------------------------------------\u001b[0m",
      "\u001b[0;31mKeyboardInterrupt\u001b[0m                         Traceback (most recent call last)",
      "\u001b[0;32m<ipython-input-228-aa5d8aab451b>\u001b[0m in \u001b[0;36m<module>\u001b[0;34m\u001b[0m\n\u001b[0;32m----> 1\u001b[0;31m \u001b[0m_error\u001b[0m\u001b[0;34m,\u001b[0m \u001b[0mloss_dict\u001b[0m\u001b[0;34m,\u001b[0m \u001b[0mB\u001b[0m\u001b[0;34m,\u001b[0m \u001b[0mthreshold\u001b[0m\u001b[0;34m,\u001b[0m \u001b[0mrate\u001b[0m \u001b[0;34m=\u001b[0m \u001b[0mMetropolis_chain\u001b[0m\u001b[0;34m(\u001b[0m\u001b[0mn_col\u001b[0m\u001b[0;34m,\u001b[0m \u001b[0;36m5000\u001b[0m\u001b[0;34m,\u001b[0m \u001b[0;36m2\u001b[0m\u001b[0;34m,\u001b[0m \u001b[0;36m0.43333\u001b[0m\u001b[0;34m,\u001b[0m \u001b[0;36m1.40\u001b[0m\u001b[0;34m)\u001b[0m\u001b[0;34m\u001b[0m\u001b[0m\n\u001b[0m",
      "\u001b[0;32m<ipython-input-227-8686ddc2ff96>\u001b[0m in \u001b[0;36mMetropolis_chain\u001b[0;34m(dim, n_iter, B, threshold, rate)\u001b[0m\n\u001b[1;32m     11\u001b[0m         \u001b[0mto_test\u001b[0m \u001b[0;34m=\u001b[0m \u001b[0mtest\u001b[0m\u001b[0;34m.\u001b[0m\u001b[0mcopy\u001b[0m\u001b[0;34m(\u001b[0m\u001b[0;34m)\u001b[0m\u001b[0;34m\u001b[0m\u001b[0m\n\u001b[1;32m     12\u001b[0m         \u001b[0mto_test\u001b[0m\u001b[0;34m[\u001b[0m\u001b[0mto_flip\u001b[0m\u001b[0;34m]\u001b[0m \u001b[0;34m=\u001b[0m \u001b[0;34m-\u001b[0m\u001b[0mto_test\u001b[0m\u001b[0;34m[\u001b[0m\u001b[0mto_flip\u001b[0m\u001b[0;34m]\u001b[0m\u001b[0;34m\u001b[0m\u001b[0m\n\u001b[0;32m---> 13\u001b[0;31m         \u001b[0mproba\u001b[0m \u001b[0;34m=\u001b[0m \u001b[0mnp\u001b[0m\u001b[0;34m.\u001b[0m\u001b[0mminimum\u001b[0m\u001b[0;34m(\u001b[0m\u001b[0;36m1\u001b[0m\u001b[0;34m,\u001b[0m \u001b[0mnp\u001b[0m\u001b[0;34m.\u001b[0m\u001b[0mexp\u001b[0m\u001b[0;34m(\u001b[0m\u001b[0;34m-\u001b[0m\u001b[0mB\u001b[0m\u001b[0;34m*\u001b[0m\u001b[0;34m(\u001b[0m\u001b[0menergy\u001b[0m\u001b[0;34m(\u001b[0m\u001b[0mto_test\u001b[0m\u001b[0;34m)\u001b[0m\u001b[0;34m-\u001b[0m\u001b[0menergy\u001b[0m\u001b[0;34m(\u001b[0m\u001b[0mtest\u001b[0m\u001b[0;34m)\u001b[0m\u001b[0;34m)\u001b[0m\u001b[0;34m)\u001b[0m\u001b[0;34m)\u001b[0m\u001b[0;34m\u001b[0m\u001b[0m\n\u001b[0m\u001b[1;32m     14\u001b[0m         \u001b[0;32mif\u001b[0m \u001b[0mrandom\u001b[0m\u001b[0;34m.\u001b[0m\u001b[0mrandom\u001b[0m\u001b[0;34m(\u001b[0m\u001b[0;34m)\u001b[0m \u001b[0;34m<\u001b[0m \u001b[0mproba\u001b[0m\u001b[0;34m:\u001b[0m\u001b[0;34m\u001b[0m\u001b[0m\n\u001b[1;32m     15\u001b[0m             \u001b[0mtest\u001b[0m \u001b[0;34m=\u001b[0m \u001b[0mto_test\u001b[0m\u001b[0;34m\u001b[0m\u001b[0m\n",
      "\u001b[0;32m<ipython-input-224-d85c4f8d5a7f>\u001b[0m in \u001b[0;36menergy\u001b[0;34m(vector)\u001b[0m\n\u001b[1;32m      1\u001b[0m \u001b[0;32mdef\u001b[0m \u001b[0menergy\u001b[0m\u001b[0;34m(\u001b[0m\u001b[0mvector\u001b[0m\u001b[0;34m)\u001b[0m\u001b[0;34m:\u001b[0m\u001b[0;34m\u001b[0m\u001b[0m\n\u001b[0;32m----> 2\u001b[0;31m     \u001b[0mdot\u001b[0m \u001b[0;34m=\u001b[0m \u001b[0mnp\u001b[0m\u001b[0;34m.\u001b[0m\u001b[0mdot\u001b[0m\u001b[0;34m(\u001b[0m\u001b[0mW\u001b[0m\u001b[0;34m,\u001b[0m \u001b[0mvector\u001b[0m\u001b[0;34m)\u001b[0m\u001b[0;34m\u001b[0m\u001b[0m\n\u001b[0m\u001b[1;32m      3\u001b[0m     \u001b[0mdiff\u001b[0m \u001b[0;34m=\u001b[0m \u001b[0mY\u001b[0m \u001b[0;34m-\u001b[0m \u001b[0mnp\u001b[0m\u001b[0;34m.\u001b[0m\u001b[0mmaximum\u001b[0m\u001b[0;34m(\u001b[0m\u001b[0;36m0\u001b[0m\u001b[0;34m,\u001b[0m \u001b[0mdot\u001b[0m\u001b[0;34m)\u001b[0m \u001b[0;34m/\u001b[0m \u001b[0mmath\u001b[0m\u001b[0;34m.\u001b[0m\u001b[0msqrt\u001b[0m\u001b[0;34m(\u001b[0m\u001b[0mn_col\u001b[0m\u001b[0;34m)\u001b[0m\u001b[0;34m\u001b[0m\u001b[0m\n\u001b[1;32m      4\u001b[0m     \u001b[0;32mreturn\u001b[0m \u001b[0mdiff\u001b[0m\u001b[0;34m.\u001b[0m\u001b[0mT\u001b[0m\u001b[0;34m.\u001b[0m\u001b[0mdot\u001b[0m\u001b[0;34m(\u001b[0m\u001b[0mdiff\u001b[0m\u001b[0;34m)\u001b[0m\u001b[0;34m\u001b[0m\u001b[0m\n",
      "\u001b[0;31mKeyboardInterrupt\u001b[0m: "
     ]
    }
   ],
   "source": [
    "_error, loss_dict, B, threshold, rate = Metropolis_chain(n_col, 5000, 2, 0.43333, 1.40)"
   ]
  },
  {
   "cell_type": "code",
   "execution_count": 8,
   "metadata": {},
   "outputs": [],
   "source": [
    "def Glauber(vector, dim, n_iter, B, threshold, rate):\n",
    "    print(\"Glauber with initial B: {} , threshold : {} , rate: {}\".format(B, threshold, rate))\n",
    "    loss_dict = {'>0.5':0, '0.5-0.4':0, '0.4-0.3':0, '0.3-0.2':0, '0.2-0.1':0, '0.1-0.05':0, '0.05-0.01':0, '<0.01':0}\n",
    "    \n",
    "    test = vector.copy()#np.random.choice(possibilities, dim)\n",
    "    errors = []\n",
    "    iter_increase = n_iter * threshold\n",
    "    for _iter in range(n_iter):\n",
    "        if _iter > iter_increase:\n",
    "            B = B*rate\n",
    "            \n",
    "        to_flip = np.random.randint(0, dim)\n",
    "        flipped = test.copy()\n",
    "        flipped[to_flip] = test[to_flip]*-1\n",
    "        proba = (1 + test[to_flip] * math.tanh(B*(energy(flipped) - energy(test))))/2.0\n",
    "        if random.random() < proba:\n",
    "            test[to_flip] = 1 \n",
    "        else:\n",
    "            test[to_flip] = -1\n",
    "        err = error(test)\n",
    "        errors.append(err)\n",
    "        loss_categ = get_loss_category(err)\n",
    "        loss_dict[loss_categ] += 1\n",
    "    print(loss_dict)\n",
    "    return errors, loss_dict, B, threshold, rate"
   ]
  },
  {
   "cell_type": "code",
   "execution_count": 257,
   "metadata": {},
   "outputs": [],
   "source": [
    "def Glauber2(vector, dim, n_iter, B, threshold, rate):\n",
    "    print(\"Glauber with initial B: {} , threshold : {} , rate: {}\".format(B, threshold, rate))\n",
    "    loss_dict = {'>0.5':0, '0.5-0.4':0, '0.4-0.3':0, '0.3-0.2':0, '0.2-0.1':0, '0.1-0.05':0, '0.05-0.01':0, '<0.01':0}\n",
    "    \n",
    "    test = vector.copy()#np.random.choice(possibilities, dim)\n",
    "    \n",
    "    errors = []\n",
    "    iter_increase = n_iter * threshold\n",
    "    for _iter in range(n_iter):\n",
    "        if _iter % int(n_iter * threshold) == int(n_iter * threshold) - 1:\n",
    "            B = B * rate\n",
    "            \n",
    "        to_flip = np.random.randint(0, dim)\n",
    "        flipped = test.copy()\n",
    "        flipped[to_flip] = test[to_flip]*-1\n",
    "        proba = (1 + test[to_flip] * math.tanh(B*(energy(flipped) - energy(test))))/2.0\n",
    "        if random.random() < proba:\n",
    "            test[to_flip] = 1 \n",
    "        else:\n",
    "            test[to_flip] = -1\n",
    "        err = error(test)\n",
    "        errors.append(err)\n",
    "        loss_categ = get_loss_category(err)\n",
    "        loss_dict[loss_categ] += 1\n",
    "    print(loss_dict)\n",
    "    return errors, loss_dict, B, threshold, rate"
   ]
  },
  {
   "cell_type": "code",
   "execution_count": 147,
   "metadata": {},
   "outputs": [
    {
     "name": "stdout",
     "output_type": "stream",
     "text": [
      "Glauber with initial B: 2 , threshold : 0.1 , rate: 1.1\n",
      "{'>0.5': 97, '0.5-0.4': 683, '0.4-0.3': 1108, '0.3-0.2': 1247, '0.2-0.1': 3325, '0.1-0.05': 1727, '0.05-0.01': 1813, '<0.01': 0}\n"
     ]
    }
   ],
   "source": [
    "_errors, loss_dict, B, threshold, rate = Glauber2(n_col, 10000, 2, 0.1, 1.1)"
   ]
  },
  {
   "cell_type": "code",
   "execution_count": 156,
   "metadata": {},
   "outputs": [
    {
     "name": "stdout",
     "output_type": "stream",
     "text": [
      "250 250\n"
     ]
    },
    {
     "data": {
      "image/png": "[encoded data removed]",
      "text/plain": [
       "<Figure size 432x288 with 1 Axes>"
      ]
     },
     "metadata": {
      "needs_background": "light"
     },
     "output_type": "display_data"
    }
   ],
   "source": [
    "i = 40\n",
    "errs_reduced = _errors[::i]\n",
    "x = np.array(range(len(_errors)))[::i]\n",
    "print(len(errs_reduced), len(x))\n",
    "plt.scatter(x, errs_reduced, color = 'blue')\n",
    "plt.show()"
   ]
  },
  {
   "cell_type": "markdown",
   "metadata": {},
   "source": [
    "## Optimization ##"
   ]
  },
  {
   "cell_type": "code",
   "execution_count": 9,
   "metadata": {},
   "outputs": [
    {
     "name": "stdout",
     "output_type": "stream",
     "text": [
      "0.514\n"
     ]
    }
   ],
   "source": [
    "vector = np.random.choice(possibilities, n_col)\n",
    "print(error(vector))"
   ]
  },
  {
   "cell_type": "code",
   "execution_count": 258,
   "metadata": {},
   "outputs": [
    {
     "name": "stdout",
     "output_type": "stream",
     "text": [
      "Glauber with initial B: 1 , threshold : 0.33 , rate: 1.1\n",
      "{'>0.5': 0, '0.5-0.4': 416, '0.4-0.3': 565, '0.3-0.2': 693, '0.2-0.1': 915, '0.1-0.05': 826, '0.05-0.01': 1341, '<0.01': 5244}\n",
      "Glauber with initial B: 1 , threshold : 0.33 , rate: 1.1\n",
      "{'>0.5': 0, '0.5-0.4': 348, '0.4-0.3': 569, '0.3-0.2': 688, '0.2-0.1': 1039, '0.1-0.05': 842, '0.05-0.01': 1654, '<0.01': 4860}\n",
      "Glauber with initial B: 1 , threshold : 0.33 , rate: 1.1\n",
      "{'>0.5': 0, '0.5-0.4': 301, '0.4-0.3': 517, '0.3-0.2': 680, '0.2-0.1': 1002, '0.1-0.05': 813, '0.05-0.01': 1231, '<0.01': 5456}\n",
      "Glauber with initial B: 2 , threshold : 0.33 , rate: 1.1\n",
      "{'>0.5': 0, '0.5-0.4': 372, '0.4-0.3': 520, '0.3-0.2': 626, '0.2-0.1': 965, '0.1-0.05': 526, '0.05-0.01': 1858, '<0.01': 5133}\n",
      "Glauber with initial B: 2 , threshold : 0.33 , rate: 1.1\n",
      "{'>0.5': 0, '0.5-0.4': 364, '0.4-0.3': 517, '0.3-0.2': 793, '0.2-0.1': 812, '0.1-0.05': 1004, '0.05-0.01': 1377, '<0.01': 5133}\n",
      "Glauber with initial B: 2 , threshold : 0.33 , rate: 1.1\n",
      "{'>0.5': 0, '0.5-0.4': 399, '0.4-0.3': 534, '0.3-0.2': 791, '0.2-0.1': 878, '0.1-0.05': 694, '0.05-0.01': 1657, '<0.01': 5047}\n",
      "Glauber with initial B: 3 , threshold : 0.33 , rate: 1.1\n",
      "{'>0.5': 0, '0.5-0.4': 389, '0.4-0.3': 565, '0.3-0.2': 659, '0.2-0.1': 969, '0.1-0.05': 653, '0.05-0.01': 2120, '<0.01': 4645}\n",
      "Glauber with initial B: 3 , threshold : 0.33 , rate: 1.1\n",
      "{'>0.5': 0, '0.5-0.4': 359, '0.4-0.3': 491, '0.3-0.2': 657, '0.2-0.1': 1181, '0.1-0.05': 865, '0.05-0.01': 1296, '<0.01': 5151}\n",
      "Glauber with initial B: 3 , threshold : 0.33 , rate: 1.1\n",
      "{'>0.5': 0, '0.5-0.4': 324, '0.4-0.3': 557, '0.3-0.2': 687, '0.2-0.1': 1033, '0.1-0.05': 829, '0.05-0.01': 1205, '<0.01': 5365}\n",
      "Glauber with initial B: 4 , threshold : 0.33 , rate: 1.1\n",
      "{'>0.5': 0, '0.5-0.4': 332, '0.4-0.3': 485, '0.3-0.2': 785, '0.2-0.1': 844, '0.1-0.05': 844, '0.05-0.01': 1649, '<0.01': 5061}\n",
      "Glauber with initial B: 4 , threshold : 0.33 , rate: 1.1\n",
      "{'>0.5': 0, '0.5-0.4': 330, '0.4-0.3': 601, '0.3-0.2': 742, '0.2-0.1': 1209, '0.1-0.05': 719, '0.05-0.01': 1314, '<0.01': 5085}\n",
      "Glauber with initial B: 4 , threshold : 0.33 , rate: 1.1\n",
      "{'>0.5': 0, '0.5-0.4': 313, '0.4-0.3': 417, '0.3-0.2': 658, '0.2-0.1': 1119, '0.1-0.05': 654, '0.05-0.01': 1693, '<0.01': 5146}\n",
      "Glauber with initial B: 1 , threshold : 0.33 , rate: 1.4000000000000001\n"
     ]
    },
    {
     "name": "stderr",
     "output_type": "stream",
     "text": [
      "/anaconda3/lib/python3.6/site-packages/ipykernel_launcher.py:15: RuntimeWarning: overflow encountered in double_scalars\n",
      "  from ipykernel import kernelapp as app\n",
      "/anaconda3/lib/python3.6/site-packages/ipykernel_launcher.py:10: RuntimeWarning: overflow encountered in double_scalars\n",
      "  # Remove the CWD from sys.path while we load stuff.\n"
     ]
    },
    {
     "name": "stdout",
     "output_type": "stream",
     "text": [
      "{'>0.5': 0, '0.5-0.4': 398, '0.4-0.3': 548, '0.3-0.2': 718, '0.2-0.1': 1092, '0.1-0.05': 813, '0.05-0.01': 1324, '<0.01': 5107}\n",
      "Glauber with initial B: 1 , threshold : 0.33 , rate: 1.4000000000000001\n",
      "{'>0.5': 0, '0.5-0.4': 415, '0.4-0.3': 440, '0.3-0.2': 863, '0.2-0.1': 1039, '0.1-0.05': 968, '0.05-0.01': 2166, '<0.01': 4109}\n",
      "Glauber with initial B: 1 , threshold : 0.33 , rate: 1.4000000000000001\n",
      "{'>0.5': 0, '0.5-0.4': 392, '0.4-0.3': 481, '0.3-0.2': 751, '0.2-0.1': 1224, '0.1-0.05': 703, '0.05-0.01': 1418, '<0.01': 5031}\n",
      "Glauber with initial B: 2 , threshold : 0.33 , rate: 1.4000000000000001\n",
      "{'>0.5': 0, '0.5-0.4': 349, '0.4-0.3': 469, '0.3-0.2': 757, '0.2-0.1': 945, '0.1-0.05': 694, '0.05-0.01': 2240, '<0.01': 4546}\n",
      "Glauber with initial B: 2 , threshold : 0.33 , rate: 1.4000000000000001\n",
      "{'>0.5': 0, '0.5-0.4': 376, '0.4-0.3': 588, '0.3-0.2': 705, '0.2-0.1': 1143, '0.1-0.05': 823, '0.05-0.01': 1288, '<0.01': 5077}\n",
      "Glauber with initial B: 2 , threshold : 0.33 , rate: 1.4000000000000001\n",
      "{'>0.5': 0, '0.5-0.4': 397, '0.4-0.3': 595, '0.3-0.2': 627, '0.2-0.1': 953, '0.1-0.05': 610, '0.05-0.01': 1192, '<0.01': 5626}\n",
      "Glauber with initial B: 3 , threshold : 0.33 , rate: 1.4000000000000001\n",
      "{'>0.5': 0, '0.5-0.4': 330, '0.4-0.3': 451, '0.3-0.2': 545, '0.2-0.1': 787, '0.1-0.05': 901, '0.05-0.01': 1821, '<0.01': 5165}\n",
      "Glauber with initial B: 3 , threshold : 0.33 , rate: 1.4000000000000001\n",
      "{'>0.5': 0, '0.5-0.4': 337, '0.4-0.3': 562, '0.3-0.2': 680, '0.2-0.1': 984, '0.1-0.05': 730, '0.05-0.01': 1751, '<0.01': 4956}\n",
      "Glauber with initial B: 3 , threshold : 0.33 , rate: 1.4000000000000001\n",
      "{'>0.5': 0, '0.5-0.4': 333, '0.4-0.3': 513, '0.3-0.2': 639, '0.2-0.1': 825, '0.1-0.05': 670, '0.05-0.01': 1733, '<0.01': 5287}\n",
      "Glauber with initial B: 4 , threshold : 0.33 , rate: 1.4000000000000001\n",
      "{'>0.5': 0, '0.5-0.4': 398, '0.4-0.3': 481, '0.3-0.2': 668, '0.2-0.1': 1182, '0.1-0.05': 657, '0.05-0.01': 1796, '<0.01': 4818}\n",
      "Glauber with initial B: 4 , threshold : 0.33 , rate: 1.4000000000000001\n",
      "{'>0.5': 0, '0.5-0.4': 369, '0.4-0.3': 473, '0.3-0.2': 817, '0.2-0.1': 1238, '0.1-0.05': 1123, '0.05-0.01': 1408, '<0.01': 4572}\n",
      "Glauber with initial B: 4 , threshold : 0.33 , rate: 1.4000000000000001\n",
      "{'>0.5': 0, '0.5-0.4': 349, '0.4-0.3': 529, '0.3-0.2': 700, '0.2-0.1': 1122, '0.1-0.05': 1009, '0.05-0.01': 1309, '<0.01': 4982}\n",
      "Glauber with initial B: 1 , threshold : 0.33 , rate: 1.7000000000000002\n",
      "{'>0.5': 0, '0.5-0.4': 405, '0.4-0.3': 421, '0.3-0.2': 629, '0.2-0.1': 837, '0.1-0.05': 780, '0.05-0.01': 1361, '<0.01': 5567}\n",
      "Glauber with initial B: 1 , threshold : 0.33 , rate: 1.7000000000000002\n",
      "{'>0.5': 0, '0.5-0.4': 350, '0.4-0.3': 481, '0.3-0.2': 565, '0.2-0.1': 899, '0.1-0.05': 684, '0.05-0.01': 1576, '<0.01': 5445}\n",
      "Glauber with initial B: 1 , threshold : 0.33 , rate: 1.7000000000000002\n",
      "{'>0.5': 0, '0.5-0.4': 411, '0.4-0.3': 545, '0.3-0.2': 780, '0.2-0.1': 1036, '0.1-0.05': 829, '0.05-0.01': 1797, '<0.01': 4602}\n",
      "Glauber with initial B: 2 , threshold : 0.33 , rate: 1.7000000000000002\n",
      "{'>0.5': 0, '0.5-0.4': 397, '0.4-0.3': 463, '0.3-0.2': 727, '0.2-0.1': 1084, '0.1-0.05': 897, '0.05-0.01': 1373, '<0.01': 5059}\n",
      "Glauber with initial B: 2 , threshold : 0.33 , rate: 1.7000000000000002\n",
      "{'>0.5': 0, '0.5-0.4': 411, '0.4-0.3': 537, '0.3-0.2': 778, '0.2-0.1': 1013, '0.1-0.05': 689, '0.05-0.01': 1503, '<0.01': 5069}\n",
      "Glauber with initial B: 2 , threshold : 0.33 , rate: 1.7000000000000002\n",
      "{'>0.5': 0, '0.5-0.4': 419, '0.4-0.3': 542, '0.3-0.2': 535, '0.2-0.1': 1036, '0.1-0.05': 940, '0.05-0.01': 2163, '<0.01': 4365}\n",
      "Glauber with initial B: 3 , threshold : 0.33 , rate: 1.7000000000000002\n",
      "{'>0.5': 0, '0.5-0.4': 373, '0.4-0.3': 409, '0.3-0.2': 746, '0.2-0.1': 1082, '0.1-0.05': 817, '0.05-0.01': 1761, '<0.01': 4812}\n",
      "Glauber with initial B: 3 , threshold : 0.33 , rate: 1.7000000000000002\n",
      "{'>0.5': 0, '0.5-0.4': 392, '0.4-0.3': 510, '0.3-0.2': 606, '0.2-0.1': 1186, '0.1-0.05': 700, '0.05-0.01': 1817, '<0.01': 4789}\n",
      "Glauber with initial B: 3 , threshold : 0.33 , rate: 1.7000000000000002\n",
      "{'>0.5': 0, '0.5-0.4': 333, '0.4-0.3': 522, '0.3-0.2': 678, '0.2-0.1': 971, '0.1-0.05': 704, '0.05-0.01': 1557, '<0.01': 5235}\n",
      "Glauber with initial B: 4 , threshold : 0.33 , rate: 1.7000000000000002\n",
      "{'>0.5': 0, '0.5-0.4': 316, '0.4-0.3': 483, '0.3-0.2': 600, '0.2-0.1': 1009, '0.1-0.05': 703, '0.05-0.01': 1734, '<0.01': 5155}\n",
      "Glauber with initial B: 4 , threshold : 0.33 , rate: 1.7000000000000002\n",
      "{'>0.5': 0, '0.5-0.4': 339, '0.4-0.3': 560, '0.3-0.2': 589, '0.2-0.1': 1073, '0.1-0.05': 924, '0.05-0.01': 1807, '<0.01': 4708}\n",
      "Glauber with initial B: 4 , threshold : 0.33 , rate: 1.7000000000000002\n",
      "{'>0.5': 0, '0.5-0.4': 448, '0.4-0.3': 524, '0.3-0.2': 793, '0.2-0.1': 922, '0.1-0.05': 938, '0.05-0.01': 1097, '<0.01': 5278}\n",
      "Glauber with initial B: 1 , threshold : 0.33 , rate: 2.0\n",
      "{'>0.5': 0, '0.5-0.4': 363, '0.4-0.3': 472, '0.3-0.2': 581, '0.2-0.1': 1060, '0.1-0.05': 838, '0.05-0.01': 1162, '<0.01': 5524}\n",
      "Glauber with initial B: 1 , threshold : 0.33 , rate: 2.0\n",
      "{'>0.5': 0, '0.5-0.4': 362, '0.4-0.3': 492, '0.3-0.2': 775, '0.2-0.1': 926, '0.1-0.05': 886, '0.05-0.01': 2104, '<0.01': 4455}\n",
      "Glauber with initial B: 1 , threshold : 0.33 , rate: 2.0\n",
      "{'>0.5': 0, '0.5-0.4': 334, '0.4-0.3': 446, '0.3-0.2': 827, '0.2-0.1': 1111, '0.1-0.05': 682, '0.05-0.01': 1284, '<0.01': 5316}\n",
      "Glauber with initial B: 2 , threshold : 0.33 , rate: 2.0\n",
      "{'>0.5': 0, '0.5-0.4': 351, '0.4-0.3': 507, '0.3-0.2': 696, '0.2-0.1': 1094, '0.1-0.05': 628, '0.05-0.01': 1417, '<0.01': 5307}\n",
      "Glauber with initial B: 2 , threshold : 0.33 , rate: 2.0\n",
      "{'>0.5': 0, '0.5-0.4': 421, '0.4-0.3': 536, '0.3-0.2': 792, '0.2-0.1': 920, '0.1-0.05': 775, '0.05-0.01': 1960, '<0.01': 4596}\n",
      "Glauber with initial B: 2 , threshold : 0.33 , rate: 2.0\n",
      "{'>0.5': 0, '0.5-0.4': 395, '0.4-0.3': 465, '0.3-0.2': 590, '0.2-0.1': 899, '0.1-0.05': 586, '0.05-0.01': 1339, '<0.01': 5726}\n",
      "Glauber with initial B: 3 , threshold : 0.33 , rate: 2.0\n",
      "{'>0.5': 0, '0.5-0.4': 300, '0.4-0.3': 591, '0.3-0.2': 673, '0.2-0.1': 1131, '0.1-0.05': 652, '0.05-0.01': 1173, '<0.01': 5480}\n",
      "Glauber with initial B: 3 , threshold : 0.33 , rate: 2.0\n",
      "{'>0.5': 0, '0.5-0.4': 381, '0.4-0.3': 492, '0.3-0.2': 622, '0.2-0.1': 967, '0.1-0.05': 847, '0.05-0.01': 1801, '<0.01': 4890}\n",
      "Glauber with initial B: 3 , threshold : 0.33 , rate: 2.0\n",
      "{'>0.5': 0, '0.5-0.4': 367, '0.4-0.3': 449, '0.3-0.2': 560, '0.2-0.1': 976, '0.1-0.05': 738, '0.05-0.01': 1990, '<0.01': 4920}\n",
      "Glauber with initial B: 4 , threshold : 0.33 , rate: 2.0\n",
      "{'>0.5': 0, '0.5-0.4': 421, '0.4-0.3': 474, '0.3-0.2': 697, '0.2-0.1': 999, '0.1-0.05': 696, '0.05-0.01': 2050, '<0.01': 4663}\n",
      "Glauber with initial B: 4 , threshold : 0.33 , rate: 2.0\n",
      "{'>0.5': 0, '0.5-0.4': 370, '0.4-0.3': 433, '0.3-0.2': 876, '0.2-0.1': 920, '0.1-0.05': 619, '0.05-0.01': 1412, '<0.01': 5370}\n",
      "Glauber with initial B: 4 , threshold : 0.33 , rate: 2.0\n",
      "{'>0.5': 0, '0.5-0.4': 468, '0.4-0.3': 451, '0.3-0.2': 624, '0.2-0.1': 835, '0.1-0.05': 794, '0.05-0.01': 2192, '<0.01': 4636}\n",
      "Glauber with initial B: 1 , threshold : 0.44 , rate: 1.1\n",
      "{'>0.5': 0, '0.5-0.4': 379, '0.4-0.3': 523, '0.3-0.2': 651, '0.2-0.1': 952, '0.1-0.05': 748, '0.05-0.01': 2095, '<0.01': 4652}\n",
      "Glauber with initial B: 1 , threshold : 0.44 , rate: 1.1\n",
      "{'>0.5': 0, '0.5-0.4': 435, '0.4-0.3': 478, '0.3-0.2': 763, '0.2-0.1': 1027, '0.1-0.05': 797, '0.05-0.01': 1809, '<0.01': 4691}\n",
      "Glauber with initial B: 1 , threshold : 0.44 , rate: 1.1\n",
      "{'>0.5': 0, '0.5-0.4': 362, '0.4-0.3': 618, '0.3-0.2': 589, '0.2-0.1': 895, '0.1-0.05': 835, '0.05-0.01': 1469, '<0.01': 5232}\n",
      "Glauber with initial B: 2 , threshold : 0.44 , rate: 1.1\n",
      "{'>0.5': 0, '0.5-0.4': 352, '0.4-0.3': 544, '0.3-0.2': 614, '0.2-0.1': 814, '0.1-0.05': 789, '0.05-0.01': 2140, '<0.01': 4747}\n",
      "Glauber with initial B: 2 , threshold : 0.44 , rate: 1.1\n",
      "{'>0.5': 0, '0.5-0.4': 354, '0.4-0.3': 596, '0.3-0.2': 582, '0.2-0.1': 942, '0.1-0.05': 971, '0.05-0.01': 1763, '<0.01': 4792}\n",
      "Glauber with initial B: 2 , threshold : 0.44 , rate: 1.1\n",
      "{'>0.5': 0, '0.5-0.4': 383, '0.4-0.3': 556, '0.3-0.2': 627, '0.2-0.1': 959, '0.1-0.05': 819, '0.05-0.01': 1686, '<0.01': 4970}\n",
      "Glauber with initial B: 3 , threshold : 0.44 , rate: 1.1\n",
      "{'>0.5': 0, '0.5-0.4': 326, '0.4-0.3': 479, '0.3-0.2': 613, '0.2-0.1': 1254, '0.1-0.05': 663, '0.05-0.01': 1466, '<0.01': 5199}\n",
      "Glauber with initial B: 3 , threshold : 0.44 , rate: 1.1\n"
     ]
    },
    {
     "name": "stdout",
     "output_type": "stream",
     "text": [
      "{'>0.5': 0, '0.5-0.4': 472, '0.4-0.3': 508, '0.3-0.2': 699, '0.2-0.1': 928, '0.1-0.05': 567, '0.05-0.01': 1435, '<0.01': 5391}\n",
      "Glauber with initial B: 3 , threshold : 0.44 , rate: 1.1\n",
      "{'>0.5': 0, '0.5-0.4': 410, '0.4-0.3': 523, '0.3-0.2': 606, '0.2-0.1': 878, '0.1-0.05': 798, '0.05-0.01': 1562, '<0.01': 5223}\n",
      "Glauber with initial B: 4 , threshold : 0.44 , rate: 1.1\n",
      "{'>0.5': 0, '0.5-0.4': 336, '0.4-0.3': 546, '0.3-0.2': 756, '0.2-0.1': 896, '0.1-0.05': 719, '0.05-0.01': 1232, '<0.01': 5515}\n",
      "Glauber with initial B: 4 , threshold : 0.44 , rate: 1.1\n",
      "{'>0.5': 0, '0.5-0.4': 351, '0.4-0.3': 431, '0.3-0.2': 569, '0.2-0.1': 914, '0.1-0.05': 630, '0.05-0.01': 1737, '<0.01': 5368}\n",
      "Glauber with initial B: 4 , threshold : 0.44 , rate: 1.1\n",
      "{'>0.5': 0, '0.5-0.4': 382, '0.4-0.3': 565, '0.3-0.2': 654, '0.2-0.1': 1001, '0.1-0.05': 773, '0.05-0.01': 1195, '<0.01': 5430}\n",
      "Glauber with initial B: 1 , threshold : 0.44 , rate: 1.4000000000000001\n",
      "{'>0.5': 0, '0.5-0.4': 382, '0.4-0.3': 572, '0.3-0.2': 726, '0.2-0.1': 1069, '0.1-0.05': 657, '0.05-0.01': 1800, '<0.01': 4794}\n",
      "Glauber with initial B: 1 , threshold : 0.44 , rate: 1.4000000000000001\n",
      "{'>0.5': 0, '0.5-0.4': 405, '0.4-0.3': 516, '0.3-0.2': 799, '0.2-0.1': 1214, '0.1-0.05': 946, '0.05-0.01': 1585, '<0.01': 4535}\n",
      "Glauber with initial B: 1 , threshold : 0.44 , rate: 1.4000000000000001\n",
      "{'>0.5': 0, '0.5-0.4': 303, '0.4-0.3': 595, '0.3-0.2': 770, '0.2-0.1': 1156, '0.1-0.05': 700, '0.05-0.01': 1871, '<0.01': 4605}\n",
      "Glauber with initial B: 2 , threshold : 0.44 , rate: 1.4000000000000001\n",
      "{'>0.5': 0, '0.5-0.4': 308, '0.4-0.3': 502, '0.3-0.2': 654, '0.2-0.1': 962, '0.1-0.05': 807, '0.05-0.01': 1763, '<0.01': 5004}\n",
      "Glauber with initial B: 2 , threshold : 0.44 , rate: 1.4000000000000001\n",
      "{'>0.5': 0, '0.5-0.4': 467, '0.4-0.3': 442, '0.3-0.2': 677, '0.2-0.1': 1090, '0.1-0.05': 544, '0.05-0.01': 1859, '<0.01': 4921}\n",
      "Glauber with initial B: 2 , threshold : 0.44 , rate: 1.4000000000000001\n",
      "{'>0.5': 0, '0.5-0.4': 445, '0.4-0.3': 488, '0.3-0.2': 518, '0.2-0.1': 1016, '0.1-0.05': 896, '0.05-0.01': 1920, '<0.01': 4717}\n",
      "Glauber with initial B: 3 , threshold : 0.44 , rate: 1.4000000000000001\n",
      "{'>0.5': 0, '0.5-0.4': 372, '0.4-0.3': 629, '0.3-0.2': 672, '0.2-0.1': 899, '0.1-0.05': 858, '0.05-0.01': 1499, '<0.01': 5071}\n",
      "Glauber with initial B: 3 , threshold : 0.44 , rate: 1.4000000000000001\n",
      "{'>0.5': 0, '0.5-0.4': 405, '0.4-0.3': 419, '0.3-0.2': 578, '0.2-0.1': 1050, '0.1-0.05': 724, '0.05-0.01': 1496, '<0.01': 5328}\n",
      "Glauber with initial B: 3 , threshold : 0.44 , rate: 1.4000000000000001\n",
      "{'>0.5': 0, '0.5-0.4': 378, '0.4-0.3': 378, '0.3-0.2': 697, '0.2-0.1': 888, '0.1-0.05': 655, '0.05-0.01': 1486, '<0.01': 5518}\n",
      "Glauber with initial B: 4 , threshold : 0.44 , rate: 1.4000000000000001\n",
      "{'>0.5': 0, '0.5-0.4': 333, '0.4-0.3': 564, '0.3-0.2': 706, '0.2-0.1': 915, '0.1-0.05': 943, '0.05-0.01': 2168, '<0.01': 4371}\n",
      "Glauber with initial B: 4 , threshold : 0.44 , rate: 1.4000000000000001\n",
      "{'>0.5': 0, '0.5-0.4': 333, '0.4-0.3': 465, '0.3-0.2': 706, '0.2-0.1': 936, '0.1-0.05': 696, '0.05-0.01': 1676, '<0.01': 5188}\n",
      "Glauber with initial B: 4 , threshold : 0.44 , rate: 1.4000000000000001\n",
      "{'>0.5': 0, '0.5-0.4': 376, '0.4-0.3': 550, '0.3-0.2': 812, '0.2-0.1': 975, '0.1-0.05': 962, '0.05-0.01': 1673, '<0.01': 4652}\n",
      "Glauber with initial B: 1 , threshold : 0.44 , rate: 1.7000000000000002\n",
      "{'>0.5': 0, '0.5-0.4': 306, '0.4-0.3': 514, '0.3-0.2': 659, '0.2-0.1': 1028, '0.1-0.05': 789, '0.05-0.01': 1605, '<0.01': 5099}\n",
      "Glauber with initial B: 1 , threshold : 0.44 , rate: 1.7000000000000002\n",
      "{'>0.5': 0, '0.5-0.4': 291, '0.4-0.3': 419, '0.3-0.2': 655, '0.2-0.1': 1042, '0.1-0.05': 577, '0.05-0.01': 1308, '<0.01': 5708}\n",
      "Glauber with initial B: 1 , threshold : 0.44 , rate: 1.7000000000000002\n",
      "{'>0.5': 0, '0.5-0.4': 358, '0.4-0.3': 495, '0.3-0.2': 745, '0.2-0.1': 1152, '0.1-0.05': 829, '0.05-0.01': 1542, '<0.01': 4879}\n",
      "Glauber with initial B: 2 , threshold : 0.44 , rate: 1.7000000000000002\n",
      "{'>0.5': 0, '0.5-0.4': 383, '0.4-0.3': 652, '0.3-0.2': 748, '0.2-0.1': 1038, '0.1-0.05': 907, '0.05-0.01': 1334, '<0.01': 4938}\n",
      "Glauber with initial B: 2 , threshold : 0.44 , rate: 1.7000000000000002\n",
      "{'>0.5': 0, '0.5-0.4': 368, '0.4-0.3': 533, '0.3-0.2': 840, '0.2-0.1': 960, '0.1-0.05': 979, '0.05-0.01': 1631, '<0.01': 4689}\n",
      "Glauber with initial B: 2 , threshold : 0.44 , rate: 1.7000000000000002\n",
      "{'>0.5': 0, '0.5-0.4': 403, '0.4-0.3': 680, '0.3-0.2': 669, '0.2-0.1': 1042, '0.1-0.05': 813, '0.05-0.01': 1593, '<0.01': 4800}\n",
      "Glauber with initial B: 3 , threshold : 0.44 , rate: 1.7000000000000002\n",
      "{'>0.5': 0, '0.5-0.4': 328, '0.4-0.3': 504, '0.3-0.2': 723, '0.2-0.1': 958, '0.1-0.05': 623, '0.05-0.01': 2052, '<0.01': 4812}\n",
      "Glauber with initial B: 3 , threshold : 0.44 , rate: 1.7000000000000002\n",
      "{'>0.5': 0, '0.5-0.4': 411, '0.4-0.3': 598, '0.3-0.2': 629, '0.2-0.1': 961, '0.1-0.05': 639, '0.05-0.01': 2046, '<0.01': 4716}\n",
      "Glauber with initial B: 3 , threshold : 0.44 , rate: 1.7000000000000002\n",
      "{'>0.5': 0, '0.5-0.4': 477, '0.4-0.3': 538, '0.3-0.2': 798, '0.2-0.1': 988, '0.1-0.05': 585, '0.05-0.01': 1616, '<0.01': 4998}\n",
      "Glauber with initial B: 4 , threshold : 0.44 , rate: 1.7000000000000002\n",
      "{'>0.5': 0, '0.5-0.4': 316, '0.4-0.3': 357, '0.3-0.2': 717, '0.2-0.1': 1069, '0.1-0.05': 719, '0.05-0.01': 1644, '<0.01': 5178}\n",
      "Glauber with initial B: 4 , threshold : 0.44 , rate: 1.7000000000000002\n",
      "{'>0.5': 0, '0.5-0.4': 352, '0.4-0.3': 505, '0.3-0.2': 627, '0.2-0.1': 720, '0.1-0.05': 737, '0.05-0.01': 1676, '<0.01': 5383}\n",
      "Glauber with initial B: 4 , threshold : 0.44 , rate: 1.7000000000000002\n",
      "{'>0.5': 0, '0.5-0.4': 314, '0.4-0.3': 515, '0.3-0.2': 633, '0.2-0.1': 1017, '0.1-0.05': 692, '0.05-0.01': 1932, '<0.01': 4897}\n",
      "Glauber with initial B: 1 , threshold : 0.44 , rate: 2.0\n",
      "{'>0.5': 0, '0.5-0.4': 387, '0.4-0.3': 513, '0.3-0.2': 722, '0.2-0.1': 1242, '0.1-0.05': 697, '0.05-0.01': 1939, '<0.01': 4500}\n",
      "Glauber with initial B: 1 , threshold : 0.44 , rate: 2.0\n",
      "{'>0.5': 0, '0.5-0.4': 333, '0.4-0.3': 436, '0.3-0.2': 713, '0.2-0.1': 809, '0.1-0.05': 727, '0.05-0.01': 1527, '<0.01': 5455}\n",
      "Glauber with initial B: 1 , threshold : 0.44 , rate: 2.0\n",
      "{'>0.5': 0, '0.5-0.4': 409, '0.4-0.3': 568, '0.3-0.2': 577, '0.2-0.1': 1020, '0.1-0.05': 691, '0.05-0.01': 1573, '<0.01': 5162}\n",
      "Glauber with initial B: 2 , threshold : 0.44 , rate: 2.0\n",
      "{'>0.5': 0, '0.5-0.4': 391, '0.4-0.3': 480, '0.3-0.2': 657, '0.2-0.1': 1016, '0.1-0.05': 704, '0.05-0.01': 1591, '<0.01': 5161}\n",
      "Glauber with initial B: 2 , threshold : 0.44 , rate: 2.0\n",
      "{'>0.5': 0, '0.5-0.4': 342, '0.4-0.3': 548, '0.3-0.2': 692, '0.2-0.1': 1101, '0.1-0.05': 703, '0.05-0.01': 1727, '<0.01': 4887}\n",
      "Glauber with initial B: 2 , threshold : 0.44 , rate: 2.0\n",
      "{'>0.5': 0, '0.5-0.4': 454, '0.4-0.3': 495, '0.3-0.2': 564, '0.2-0.1': 907, '0.1-0.05': 605, '0.05-0.01': 1640, '<0.01': 5335}\n",
      "Glauber with initial B: 3 , threshold : 0.44 , rate: 2.0\n",
      "{'>0.5': 0, '0.5-0.4': 398, '0.4-0.3': 652, '0.3-0.2': 856, '0.2-0.1': 1136, '0.1-0.05': 550, '0.05-0.01': 1521, '<0.01': 4887}\n",
      "Glauber with initial B: 3 , threshold : 0.44 , rate: 2.0\n",
      "{'>0.5': 0, '0.5-0.4': 350, '0.4-0.3': 468, '0.3-0.2': 768, '0.2-0.1': 993, '0.1-0.05': 642, '0.05-0.01': 2219, '<0.01': 4560}\n",
      "Glauber with initial B: 3 , threshold : 0.44 , rate: 2.0\n",
      "{'>0.5': 0, '0.5-0.4': 307, '0.4-0.3': 662, '0.3-0.2': 849, '0.2-0.1': 1188, '0.1-0.05': 1008, '0.05-0.01': 1261, '<0.01': 4725}\n",
      "Glauber with initial B: 4 , threshold : 0.44 , rate: 2.0\n",
      "{'>0.5': 0, '0.5-0.4': 359, '0.4-0.3': 510, '0.3-0.2': 617, '0.2-0.1': 1000, '0.1-0.05': 688, '0.05-0.01': 1723, '<0.01': 5103}\n",
      "Glauber with initial B: 4 , threshold : 0.44 , rate: 2.0\n",
      "{'>0.5': 0, '0.5-0.4': 334, '0.4-0.3': 460, '0.3-0.2': 664, '0.2-0.1': 837, '0.1-0.05': 682, '0.05-0.01': 1868, '<0.01': 5155}\n",
      "Glauber with initial B: 4 , threshold : 0.44 , rate: 2.0\n",
      "{'>0.5': 0, '0.5-0.4': 394, '0.4-0.3': 484, '0.3-0.2': 593, '0.2-0.1': 1108, '0.1-0.05': 643, '0.05-0.01': 1522, '<0.01': 5256}\n",
      "Glauber with initial B: 1 , threshold : 0.55 , rate: 1.1\n",
      "{'>0.5': 0, '0.5-0.4': 355, '0.4-0.3': 610, '0.3-0.2': 694, '0.2-0.1': 1097, '0.1-0.05': 686, '0.05-0.01': 1685, '<0.01': 4873}\n",
      "Glauber with initial B: 1 , threshold : 0.55 , rate: 1.1\n",
      "{'>0.5': 0, '0.5-0.4': 324, '0.4-0.3': 472, '0.3-0.2': 898, '0.2-0.1': 1073, '0.1-0.05': 874, '0.05-0.01': 1763, '<0.01': 4596}\n",
      "Glauber with initial B: 1 , threshold : 0.55 , rate: 1.1\n"
     ]
    },
    {
     "name": "stdout",
     "output_type": "stream",
     "text": [
      "{'>0.5': 0, '0.5-0.4': 409, '0.4-0.3': 529, '0.3-0.2': 651, '0.2-0.1': 999, '0.1-0.05': 759, '0.05-0.01': 2435, '<0.01': 4218}\n",
      "Glauber with initial B: 2 , threshold : 0.55 , rate: 1.1\n",
      "{'>0.5': 0, '0.5-0.4': 484, '0.4-0.3': 562, '0.3-0.2': 613, '0.2-0.1': 1006, '0.1-0.05': 768, '0.05-0.01': 1459, '<0.01': 5108}\n",
      "Glauber with initial B: 2 , threshold : 0.55 , rate: 1.1\n",
      "{'>0.5': 0, '0.5-0.4': 412, '0.4-0.3': 675, '0.3-0.2': 798, '0.2-0.1': 934, '0.1-0.05': 756, '0.05-0.01': 1601, '<0.01': 4824}\n",
      "Glauber with initial B: 2 , threshold : 0.55 , rate: 1.1\n",
      "{'>0.5': 0, '0.5-0.4': 313, '0.4-0.3': 476, '0.3-0.2': 484, '0.2-0.1': 909, '0.1-0.05': 828, '0.05-0.01': 1522, '<0.01': 5468}\n",
      "Glauber with initial B: 3 , threshold : 0.55 , rate: 1.1\n",
      "{'>0.5': 0, '0.5-0.4': 336, '0.4-0.3': 475, '0.3-0.2': 690, '0.2-0.1': 959, '0.1-0.05': 648, '0.05-0.01': 1094, '<0.01': 5798}\n",
      "Glauber with initial B: 3 , threshold : 0.55 , rate: 1.1\n",
      "{'>0.5': 0, '0.5-0.4': 347, '0.4-0.3': 515, '0.3-0.2': 639, '0.2-0.1': 904, '0.1-0.05': 863, '0.05-0.01': 1561, '<0.01': 5171}\n",
      "Glauber with initial B: 3 , threshold : 0.55 , rate: 1.1\n",
      "{'>0.5': 0, '0.5-0.4': 338, '0.4-0.3': 489, '0.3-0.2': 639, '0.2-0.1': 1009, '0.1-0.05': 878, '0.05-0.01': 1838, '<0.01': 4809}\n",
      "Glauber with initial B: 4 , threshold : 0.55 , rate: 1.1\n",
      "{'>0.5': 0, '0.5-0.4': 389, '0.4-0.3': 574, '0.3-0.2': 721, '0.2-0.1': 925, '0.1-0.05': 807, '0.05-0.01': 1372, '<0.01': 5212}\n",
      "Glauber with initial B: 4 , threshold : 0.55 , rate: 1.1\n",
      "{'>0.5': 0, '0.5-0.4': 404, '0.4-0.3': 504, '0.3-0.2': 847, '0.2-0.1': 1115, '0.1-0.05': 713, '0.05-0.01': 2095, '<0.01': 4322}\n",
      "Glauber with initial B: 4 , threshold : 0.55 , rate: 1.1\n",
      "{'>0.5': 0, '0.5-0.4': 453, '0.4-0.3': 563, '0.3-0.2': 708, '0.2-0.1': 915, '0.1-0.05': 779, '0.05-0.01': 1828, '<0.01': 4754}\n",
      "Glauber with initial B: 1 , threshold : 0.55 , rate: 1.4000000000000001\n",
      "{'>0.5': 0, '0.5-0.4': 490, '0.4-0.3': 411, '0.3-0.2': 753, '0.2-0.1': 975, '0.1-0.05': 722, '0.05-0.01': 1740, '<0.01': 4909}\n",
      "Glauber with initial B: 1 , threshold : 0.55 , rate: 1.4000000000000001\n",
      "{'>0.5': 0, '0.5-0.4': 415, '0.4-0.3': 627, '0.3-0.2': 705, '0.2-0.1': 923, '0.1-0.05': 858, '0.05-0.01': 2131, '<0.01': 4341}\n",
      "Glauber with initial B: 1 , threshold : 0.55 , rate: 1.4000000000000001\n",
      "{'>0.5': 0, '0.5-0.4': 410, '0.4-0.3': 541, '0.3-0.2': 833, '0.2-0.1': 1023, '0.1-0.05': 792, '0.05-0.01': 1638, '<0.01': 4763}\n",
      "Glauber with initial B: 2 , threshold : 0.55 , rate: 1.4000000000000001\n",
      "{'>0.5': 0, '0.5-0.4': 427, '0.4-0.3': 504, '0.3-0.2': 624, '0.2-0.1': 908, '0.1-0.05': 734, '0.05-0.01': 1997, '<0.01': 4806}\n",
      "Glauber with initial B: 2 , threshold : 0.55 , rate: 1.4000000000000001\n",
      "{'>0.5': 0, '0.5-0.4': 356, '0.4-0.3': 497, '0.3-0.2': 694, '0.2-0.1': 1008, '0.1-0.05': 842, '0.05-0.01': 1688, '<0.01': 4915}\n",
      "Glauber with initial B: 2 , threshold : 0.55 , rate: 1.4000000000000001\n",
      "{'>0.5': 0, '0.5-0.4': 328, '0.4-0.3': 449, '0.3-0.2': 608, '0.2-0.1': 1051, '0.1-0.05': 771, '0.05-0.01': 1560, '<0.01': 5233}\n",
      "Glauber with initial B: 3 , threshold : 0.55 , rate: 1.4000000000000001\n",
      "{'>0.5': 0, '0.5-0.4': 326, '0.4-0.3': 647, '0.3-0.2': 718, '0.2-0.1': 923, '0.1-0.05': 738, '0.05-0.01': 1218, '<0.01': 5430}\n",
      "Glauber with initial B: 3 , threshold : 0.55 , rate: 1.4000000000000001\n",
      "{'>0.5': 0, '0.5-0.4': 404, '0.4-0.3': 402, '0.3-0.2': 690, '0.2-0.1': 932, '0.1-0.05': 750, '0.05-0.01': 1394, '<0.01': 5428}\n",
      "Glauber with initial B: 3 , threshold : 0.55 , rate: 1.4000000000000001\n",
      "{'>0.5': 0, '0.5-0.4': 324, '0.4-0.3': 530, '0.3-0.2': 810, '0.2-0.1': 831, '0.1-0.05': 667, '0.05-0.01': 1634, '<0.01': 5204}\n",
      "Glauber with initial B: 4 , threshold : 0.55 , rate: 1.4000000000000001\n",
      "{'>0.5': 0, '0.5-0.4': 393, '0.4-0.3': 516, '0.3-0.2': 591, '0.2-0.1': 1029, '0.1-0.05': 795, '0.05-0.01': 1853, '<0.01': 4823}\n",
      "Glauber with initial B: 4 , threshold : 0.55 , rate: 1.4000000000000001\n",
      "{'>0.5': 0, '0.5-0.4': 393, '0.4-0.3': 584, '0.3-0.2': 708, '0.2-0.1': 956, '0.1-0.05': 674, '0.05-0.01': 1809, '<0.01': 4876}\n",
      "Glauber with initial B: 4 , threshold : 0.55 , rate: 1.4000000000000001\n",
      "{'>0.5': 0, '0.5-0.4': 382, '0.4-0.3': 494, '0.3-0.2': 674, '0.2-0.1': 790, '0.1-0.05': 774, '0.05-0.01': 1613, '<0.01': 5273}\n",
      "Glauber with initial B: 1 , threshold : 0.55 , rate: 1.7000000000000002\n",
      "{'>0.5': 0, '0.5-0.4': 295, '0.4-0.3': 535, '0.3-0.2': 547, '0.2-0.1': 1110, '0.1-0.05': 673, '0.05-0.01': 1974, '<0.01': 4866}\n",
      "Glauber with initial B: 1 , threshold : 0.55 , rate: 1.7000000000000002\n",
      "{'>0.5': 0, '0.5-0.4': 398, '0.4-0.3': 537, '0.3-0.2': 698, '0.2-0.1': 891, '0.1-0.05': 658, '0.05-0.01': 1754, '<0.01': 5064}\n",
      "Glauber with initial B: 1 , threshold : 0.55 , rate: 1.7000000000000002\n",
      "{'>0.5': 0, '0.5-0.4': 351, '0.4-0.3': 434, '0.3-0.2': 652, '0.2-0.1': 1151, '0.1-0.05': 670, '0.05-0.01': 1749, '<0.01': 4993}\n",
      "Glauber with initial B: 2 , threshold : 0.55 , rate: 1.7000000000000002\n",
      "{'>0.5': 0, '0.5-0.4': 322, '0.4-0.3': 408, '0.3-0.2': 734, '0.2-0.1': 1054, '0.1-0.05': 915, '0.05-0.01': 2012, '<0.01': 4555}\n",
      "Glauber with initial B: 2 , threshold : 0.55 , rate: 1.7000000000000002\n",
      "{'>0.5': 0, '0.5-0.4': 443, '0.4-0.3': 596, '0.3-0.2': 646, '0.2-0.1': 1103, '0.1-0.05': 848, '0.05-0.01': 1426, '<0.01': 4938}\n",
      "Glauber with initial B: 2 , threshold : 0.55 , rate: 1.7000000000000002\n",
      "{'>0.5': 0, '0.5-0.4': 382, '0.4-0.3': 571, '0.3-0.2': 603, '0.2-0.1': 1163, '0.1-0.05': 926, '0.05-0.01': 2125, '<0.01': 4230}\n",
      "Glauber with initial B: 3 , threshold : 0.55 , rate: 1.7000000000000002\n",
      "{'>0.5': 0, '0.5-0.4': 353, '0.4-0.3': 419, '0.3-0.2': 671, '0.2-0.1': 1000, '0.1-0.05': 734, '0.05-0.01': 1995, '<0.01': 4828}\n",
      "Glauber with initial B: 3 , threshold : 0.55 , rate: 1.7000000000000002\n",
      "{'>0.5': 0, '0.5-0.4': 392, '0.4-0.3': 490, '0.3-0.2': 814, '0.2-0.1': 1089, '0.1-0.05': 588, '0.05-0.01': 2057, '<0.01': 4570}\n",
      "Glauber with initial B: 3 , threshold : 0.55 , rate: 1.7000000000000002\n",
      "{'>0.5': 0, '0.5-0.4': 478, '0.4-0.3': 498, '0.3-0.2': 639, '0.2-0.1': 967, '0.1-0.05': 660, '0.05-0.01': 1524, '<0.01': 5234}\n",
      "Glauber with initial B: 4 , threshold : 0.55 , rate: 1.7000000000000002\n",
      "{'>0.5': 0, '0.5-0.4': 343, '0.4-0.3': 537, '0.3-0.2': 658, '0.2-0.1': 1204, '0.1-0.05': 646, '0.05-0.01': 1348, '<0.01': 5264}\n",
      "Glauber with initial B: 4 , threshold : 0.55 , rate: 1.7000000000000002\n",
      "{'>0.5': 0, '0.5-0.4': 400, '0.4-0.3': 524, '0.3-0.2': 677, '0.2-0.1': 1066, '0.1-0.05': 652, '0.05-0.01': 1433, '<0.01': 5248}\n",
      "Glauber with initial B: 4 , threshold : 0.55 , rate: 1.7000000000000002\n",
      "{'>0.5': 0, '0.5-0.4': 362, '0.4-0.3': 520, '0.3-0.2': 581, '0.2-0.1': 1079, '0.1-0.05': 772, '0.05-0.01': 1385, '<0.01': 5301}\n",
      "Glauber with initial B: 1 , threshold : 0.55 , rate: 2.0\n",
      "{'>0.5': 0, '0.5-0.4': 415, '0.4-0.3': 590, '0.3-0.2': 781, '0.2-0.1': 964, '0.1-0.05': 835, '0.05-0.01': 1561, '<0.01': 4854}\n",
      "Glauber with initial B: 1 , threshold : 0.55 , rate: 2.0\n",
      "{'>0.5': 0, '0.5-0.4': 355, '0.4-0.3': 464, '0.3-0.2': 736, '0.2-0.1': 837, '0.1-0.05': 747, '0.05-0.01': 1479, '<0.01': 5382}\n",
      "Glauber with initial B: 1 , threshold : 0.55 , rate: 2.0\n",
      "{'>0.5': 0, '0.5-0.4': 359, '0.4-0.3': 533, '0.3-0.2': 589, '0.2-0.1': 1121, '0.1-0.05': 683, '0.05-0.01': 1172, '<0.01': 5543}\n",
      "Glauber with initial B: 2 , threshold : 0.55 , rate: 2.0\n",
      "{'>0.5': 0, '0.5-0.4': 393, '0.4-0.3': 560, '0.3-0.2': 769, '0.2-0.1': 796, '0.1-0.05': 769, '0.05-0.01': 1572, '<0.01': 5141}\n",
      "Glauber with initial B: 2 , threshold : 0.55 , rate: 2.0\n",
      "{'>0.5': 0, '0.5-0.4': 284, '0.4-0.3': 537, '0.3-0.2': 831, '0.2-0.1': 985, '0.1-0.05': 765, '0.05-0.01': 1641, '<0.01': 4957}\n",
      "Glauber with initial B: 2 , threshold : 0.55 , rate: 2.0\n",
      "{'>0.5': 0, '0.5-0.4': 359, '0.4-0.3': 481, '0.3-0.2': 691, '0.2-0.1': 841, '0.1-0.05': 854, '0.05-0.01': 1396, '<0.01': 5378}\n",
      "Glauber with initial B: 3 , threshold : 0.55 , rate: 2.0\n",
      "{'>0.5': 0, '0.5-0.4': 385, '0.4-0.3': 414, '0.3-0.2': 733, '0.2-0.1': 1046, '0.1-0.05': 855, '0.05-0.01': 1843, '<0.01': 4724}\n",
      "Glauber with initial B: 3 , threshold : 0.55 , rate: 2.0\n",
      "{'>0.5': 0, '0.5-0.4': 380, '0.4-0.3': 558, '0.3-0.2': 684, '0.2-0.1': 895, '0.1-0.05': 804, '0.05-0.01': 1293, '<0.01': 5386}\n",
      "Glauber with initial B: 3 , threshold : 0.55 , rate: 2.0\n",
      "{'>0.5': 0, '0.5-0.4': 359, '0.4-0.3': 481, '0.3-0.2': 583, '0.2-0.1': 834, '0.1-0.05': 707, '0.05-0.01': 2175, '<0.01': 4861}\n",
      "Glauber with initial B: 4 , threshold : 0.55 , rate: 2.0\n"
     ]
    },
    {
     "name": "stdout",
     "output_type": "stream",
     "text": [
      "{'>0.5': 0, '0.5-0.4': 304, '0.4-0.3': 522, '0.3-0.2': 731, '0.2-0.1': 957, '0.1-0.05': 835, '0.05-0.01': 1706, '<0.01': 4945}\n",
      "Glauber with initial B: 4 , threshold : 0.55 , rate: 2.0\n",
      "{'>0.5': 0, '0.5-0.4': 477, '0.4-0.3': 501, '0.3-0.2': 657, '0.2-0.1': 851, '0.1-0.05': 682, '0.05-0.01': 1379, '<0.01': 5453}\n",
      "Glauber with initial B: 4 , threshold : 0.55 , rate: 2.0\n",
      "{'>0.5': 0, '0.5-0.4': 352, '0.4-0.3': 542, '0.3-0.2': 638, '0.2-0.1': 778, '0.1-0.05': 793, '0.05-0.01': 1250, '<0.01': 5647}\n",
      "Glauber with initial B: 1 , threshold : 0.66 , rate: 1.1\n",
      "{'>0.5': 0, '0.5-0.4': 282, '0.4-0.3': 544, '0.3-0.2': 696, '0.2-0.1': 758, '0.1-0.05': 692, '0.05-0.01': 1990, '<0.01': 5038}\n",
      "Glauber with initial B: 1 , threshold : 0.66 , rate: 1.1\n",
      "{'>0.5': 0, '0.5-0.4': 414, '0.4-0.3': 430, '0.3-0.2': 604, '0.2-0.1': 837, '0.1-0.05': 662, '0.05-0.01': 1419, '<0.01': 5634}\n",
      "Glauber with initial B: 1 , threshold : 0.66 , rate: 1.1\n",
      "{'>0.5': 0, '0.5-0.4': 361, '0.4-0.3': 575, '0.3-0.2': 775, '0.2-0.1': 1081, '0.1-0.05': 818, '0.05-0.01': 1473, '<0.01': 4917}\n",
      "Glauber with initial B: 2 , threshold : 0.66 , rate: 1.1\n",
      "{'>0.5': 0, '0.5-0.4': 309, '0.4-0.3': 508, '0.3-0.2': 657, '0.2-0.1': 969, '0.1-0.05': 618, '0.05-0.01': 1393, '<0.01': 5546}\n",
      "Glauber with initial B: 2 , threshold : 0.66 , rate: 1.1\n",
      "{'>0.5': 0, '0.5-0.4': 327, '0.4-0.3': 573, '0.3-0.2': 608, '0.2-0.1': 1053, '0.1-0.05': 910, '0.05-0.01': 1232, '<0.01': 5297}\n",
      "Glauber with initial B: 2 , threshold : 0.66 , rate: 1.1\n",
      "{'>0.5': 0, '0.5-0.4': 383, '0.4-0.3': 603, '0.3-0.2': 710, '0.2-0.1': 952, '0.1-0.05': 692, '0.05-0.01': 2115, '<0.01': 4545}\n",
      "Glauber with initial B: 3 , threshold : 0.66 , rate: 1.1\n",
      "{'>0.5': 0, '0.5-0.4': 324, '0.4-0.3': 532, '0.3-0.2': 549, '0.2-0.1': 964, '0.1-0.05': 809, '0.05-0.01': 1382, '<0.01': 5440}\n",
      "Glauber with initial B: 3 , threshold : 0.66 , rate: 1.1\n",
      "{'>0.5': 0, '0.5-0.4': 363, '0.4-0.3': 660, '0.3-0.2': 708, '0.2-0.1': 1008, '0.1-0.05': 640, '0.05-0.01': 1189, '<0.01': 5432}\n",
      "Glauber with initial B: 3 , threshold : 0.66 , rate: 1.1\n",
      "{'>0.5': 0, '0.5-0.4': 314, '0.4-0.3': 400, '0.3-0.2': 748, '0.2-0.1': 1094, '0.1-0.05': 581, '0.05-0.01': 1834, '<0.01': 5029}\n",
      "Glauber with initial B: 4 , threshold : 0.66 , rate: 1.1\n",
      "{'>0.5': 0, '0.5-0.4': 405, '0.4-0.3': 567, '0.3-0.2': 689, '0.2-0.1': 964, '0.1-0.05': 789, '0.05-0.01': 1322, '<0.01': 5264}\n",
      "Glauber with initial B: 4 , threshold : 0.66 , rate: 1.1\n",
      "{'>0.5': 0, '0.5-0.4': 437, '0.4-0.3': 476, '0.3-0.2': 768, '0.2-0.1': 780, '0.1-0.05': 948, '0.05-0.01': 1757, '<0.01': 4834}\n",
      "Glauber with initial B: 4 , threshold : 0.66 , rate: 1.1\n",
      "{'>0.5': 0, '0.5-0.4': 435, '0.4-0.3': 567, '0.3-0.2': 684, '0.2-0.1': 1037, '0.1-0.05': 867, '0.05-0.01': 1784, '<0.01': 4626}\n",
      "Glauber with initial B: 1 , threshold : 0.66 , rate: 1.4000000000000001\n",
      "{'>0.5': 0, '0.5-0.4': 412, '0.4-0.3': 544, '0.3-0.2': 765, '0.2-0.1': 1354, '0.1-0.05': 663, '0.05-0.01': 2421, '<0.01': 3841}\n",
      "Glauber with initial B: 1 , threshold : 0.66 , rate: 1.4000000000000001\n",
      "{'>0.5': 0, '0.5-0.4': 341, '0.4-0.3': 520, '0.3-0.2': 696, '0.2-0.1': 963, '0.1-0.05': 655, '0.05-0.01': 1287, '<0.01': 5538}\n",
      "Glauber with initial B: 1 , threshold : 0.66 , rate: 1.4000000000000001\n",
      "{'>0.5': 0, '0.5-0.4': 404, '0.4-0.3': 429, '0.3-0.2': 755, '0.2-0.1': 1080, '0.1-0.05': 680, '0.05-0.01': 2287, '<0.01': 4365}\n",
      "Glauber with initial B: 2 , threshold : 0.66 , rate: 1.4000000000000001\n",
      "{'>0.5': 0, '0.5-0.4': 355, '0.4-0.3': 420, '0.3-0.2': 641, '0.2-0.1': 931, '0.1-0.05': 606, '0.05-0.01': 2083, '<0.01': 4964}\n",
      "Glauber with initial B: 2 , threshold : 0.66 , rate: 1.4000000000000001\n",
      "{'>0.5': 0, '0.5-0.4': 366, '0.4-0.3': 516, '0.3-0.2': 591, '0.2-0.1': 969, '0.1-0.05': 923, '0.05-0.01': 1453, '<0.01': 5182}\n",
      "Glauber with initial B: 2 , threshold : 0.66 , rate: 1.4000000000000001\n",
      "{'>0.5': 0, '0.5-0.4': 337, '0.4-0.3': 450, '0.3-0.2': 640, '0.2-0.1': 894, '0.1-0.05': 1050, '0.05-0.01': 1345, '<0.01': 5284}\n",
      "Glauber with initial B: 3 , threshold : 0.66 , rate: 1.4000000000000001\n",
      "{'>0.5': 0, '0.5-0.4': 417, '0.4-0.3': 472, '0.3-0.2': 690, '0.2-0.1': 1044, '0.1-0.05': 627, '0.05-0.01': 1592, '<0.01': 5158}\n",
      "Glauber with initial B: 3 , threshold : 0.66 , rate: 1.4000000000000001\n",
      "{'>0.5': 0, '0.5-0.4': 442, '0.4-0.3': 488, '0.3-0.2': 666, '0.2-0.1': 765, '0.1-0.05': 871, '0.05-0.01': 1786, '<0.01': 4982}\n",
      "Glauber with initial B: 3 , threshold : 0.66 , rate: 1.4000000000000001\n",
      "{'>0.5': 0, '0.5-0.4': 314, '0.4-0.3': 439, '0.3-0.2': 656, '0.2-0.1': 957, '0.1-0.05': 803, '0.05-0.01': 1610, '<0.01': 5221}\n",
      "Glauber with initial B: 4 , threshold : 0.66 , rate: 1.4000000000000001\n",
      "{'>0.5': 0, '0.5-0.4': 369, '0.4-0.3': 555, '0.3-0.2': 631, '0.2-0.1': 874, '0.1-0.05': 611, '0.05-0.01': 1491, '<0.01': 5469}\n",
      "Glauber with initial B: 4 , threshold : 0.66 , rate: 1.4000000000000001\n",
      "{'>0.5': 0, '0.5-0.4': 385, '0.4-0.3': 579, '0.3-0.2': 597, '0.2-0.1': 972, '0.1-0.05': 848, '0.05-0.01': 1437, '<0.01': 5182}\n",
      "Glauber with initial B: 4 , threshold : 0.66 , rate: 1.4000000000000001\n",
      "{'>0.5': 0, '0.5-0.4': 311, '0.4-0.3': 463, '0.3-0.2': 669, '0.2-0.1': 867, '0.1-0.05': 542, '0.05-0.01': 1590, '<0.01': 5558}\n",
      "Glauber with initial B: 1 , threshold : 0.66 , rate: 1.7000000000000002\n",
      "{'>0.5': 0, '0.5-0.4': 354, '0.4-0.3': 442, '0.3-0.2': 682, '0.2-0.1': 1194, '0.1-0.05': 866, '0.05-0.01': 1725, '<0.01': 4737}\n",
      "Glauber with initial B: 1 , threshold : 0.66 , rate: 1.7000000000000002\n",
      "{'>0.5': 0, '0.5-0.4': 367, '0.4-0.3': 529, '0.3-0.2': 597, '0.2-0.1': 949, '0.1-0.05': 741, '0.05-0.01': 2492, '<0.01': 4325}\n",
      "Glauber with initial B: 1 , threshold : 0.66 , rate: 1.7000000000000002\n",
      "{'>0.5': 0, '0.5-0.4': 373, '0.4-0.3': 609, '0.3-0.2': 622, '0.2-0.1': 1094, '0.1-0.05': 814, '0.05-0.01': 1598, '<0.01': 4890}\n",
      "Glauber with initial B: 2 , threshold : 0.66 , rate: 1.7000000000000002\n",
      "{'>0.5': 0, '0.5-0.4': 331, '0.4-0.3': 400, '0.3-0.2': 613, '0.2-0.1': 986, '0.1-0.05': 752, '0.05-0.01': 1848, '<0.01': 5070}\n",
      "Glauber with initial B: 2 , threshold : 0.66 , rate: 1.7000000000000002\n",
      "{'>0.5': 0, '0.5-0.4': 331, '0.4-0.3': 484, '0.3-0.2': 547, '0.2-0.1': 1188, '0.1-0.05': 733, '0.05-0.01': 1632, '<0.01': 5085}\n",
      "Glauber with initial B: 2 , threshold : 0.66 , rate: 1.7000000000000002\n",
      "{'>0.5': 0, '0.5-0.4': 339, '0.4-0.3': 503, '0.3-0.2': 655, '0.2-0.1': 800, '0.1-0.05': 694, '0.05-0.01': 1264, '<0.01': 5745}\n",
      "Glauber with initial B: 3 , threshold : 0.66 , rate: 1.7000000000000002\n",
      "{'>0.5': 0, '0.5-0.4': 370, '0.4-0.3': 516, '0.3-0.2': 538, '0.2-0.1': 967, '0.1-0.05': 668, '0.05-0.01': 1491, '<0.01': 5450}\n",
      "Glauber with initial B: 3 , threshold : 0.66 , rate: 1.7000000000000002\n",
      "{'>0.5': 0, '0.5-0.4': 325, '0.4-0.3': 610, '0.3-0.2': 656, '0.2-0.1': 1338, '0.1-0.05': 880, '0.05-0.01': 1567, '<0.01': 4624}\n",
      "Glauber with initial B: 3 , threshold : 0.66 , rate: 1.7000000000000002\n",
      "{'>0.5': 0, '0.5-0.4': 379, '0.4-0.3': 487, '0.3-0.2': 795, '0.2-0.1': 804, '0.1-0.05': 908, '0.05-0.01': 1749, '<0.01': 4878}\n",
      "Glauber with initial B: 4 , threshold : 0.66 , rate: 1.7000000000000002\n",
      "{'>0.5': 0, '0.5-0.4': 511, '0.4-0.3': 514, '0.3-0.2': 680, '0.2-0.1': 1104, '0.1-0.05': 723, '0.05-0.01': 1390, '<0.01': 5078}\n",
      "Glauber with initial B: 4 , threshold : 0.66 , rate: 1.7000000000000002\n",
      "{'>0.5': 0, '0.5-0.4': 317, '0.4-0.3': 457, '0.3-0.2': 757, '0.2-0.1': 964, '0.1-0.05': 820, '0.05-0.01': 1497, '<0.01': 5188}\n",
      "Glauber with initial B: 4 , threshold : 0.66 , rate: 1.7000000000000002\n",
      "{'>0.5': 0, '0.5-0.4': 370, '0.4-0.3': 389, '0.3-0.2': 657, '0.2-0.1': 998, '0.1-0.05': 855, '0.05-0.01': 1321, '<0.01': 5410}\n",
      "Glauber with initial B: 1 , threshold : 0.66 , rate: 2.0\n",
      "{'>0.5': 0, '0.5-0.4': 338, '0.4-0.3': 457, '0.3-0.2': 740, '0.2-0.1': 1035, '0.1-0.05': 746, '0.05-0.01': 1938, '<0.01': 4746}\n",
      "Glauber with initial B: 1 , threshold : 0.66 , rate: 2.0\n",
      "{'>0.5': 0, '0.5-0.4': 385, '0.4-0.3': 480, '0.3-0.2': 638, '0.2-0.1': 915, '0.1-0.05': 782, '0.05-0.01': 2420, '<0.01': 4380}\n",
      "Glauber with initial B: 1 , threshold : 0.66 , rate: 2.0\n",
      "{'>0.5': 0, '0.5-0.4': 300, '0.4-0.3': 429, '0.3-0.2': 696, '0.2-0.1': 1055, '0.1-0.05': 731, '0.05-0.01': 1840, '<0.01': 4949}\n",
      "Glauber with initial B: 2 , threshold : 0.66 , rate: 2.0\n",
      "{'>0.5': 0, '0.5-0.4': 357, '0.4-0.3': 568, '0.3-0.2': 732, '0.2-0.1': 791, '0.1-0.05': 656, '0.05-0.01': 1573, '<0.01': 5323}\n",
      "Glauber with initial B: 2 , threshold : 0.66 , rate: 2.0\n"
     ]
    },
    {
     "name": "stdout",
     "output_type": "stream",
     "text": [
      "{'>0.5': 0, '0.5-0.4': 398, '0.4-0.3': 578, '0.3-0.2': 600, '0.2-0.1': 981, '0.1-0.05': 629, '0.05-0.01': 1555, '<0.01': 5259}\n",
      "Glauber with initial B: 2 , threshold : 0.66 , rate: 2.0\n",
      "{'>0.5': 0, '0.5-0.4': 411, '0.4-0.3': 509, '0.3-0.2': 607, '0.2-0.1': 1109, '0.1-0.05': 849, '0.05-0.01': 1907, '<0.01': 4608}\n",
      "Glauber with initial B: 3 , threshold : 0.66 , rate: 2.0\n",
      "{'>0.5': 0, '0.5-0.4': 426, '0.4-0.3': 490, '0.3-0.2': 657, '0.2-0.1': 826, '0.1-0.05': 754, '0.05-0.01': 1717, '<0.01': 5130}\n",
      "Glauber with initial B: 3 , threshold : 0.66 , rate: 2.0\n",
      "{'>0.5': 0, '0.5-0.4': 392, '0.4-0.3': 614, '0.3-0.2': 647, '0.2-0.1': 1040, '0.1-0.05': 987, '0.05-0.01': 1439, '<0.01': 4881}\n",
      "Glauber with initial B: 3 , threshold : 0.66 , rate: 2.0\n",
      "{'>0.5': 0, '0.5-0.4': 341, '0.4-0.3': 512, '0.3-0.2': 599, '0.2-0.1': 1322, '0.1-0.05': 976, '0.05-0.01': 2133, '<0.01': 4117}\n",
      "Glauber with initial B: 4 , threshold : 0.66 , rate: 2.0\n",
      "{'>0.5': 0, '0.5-0.4': 382, '0.4-0.3': 575, '0.3-0.2': 657, '0.2-0.1': 977, '0.1-0.05': 676, '0.05-0.01': 1591, '<0.01': 5142}\n",
      "Glauber with initial B: 4 , threshold : 0.66 , rate: 2.0\n",
      "{'>0.5': 0, '0.5-0.4': 317, '0.4-0.3': 489, '0.3-0.2': 697, '0.2-0.1': 1002, '0.1-0.05': 736, '0.05-0.01': 1420, '<0.01': 5339}\n",
      "Glauber with initial B: 4 , threshold : 0.66 , rate: 2.0\n",
      "{'>0.5': 0, '0.5-0.4': 360, '0.4-0.3': 464, '0.3-0.2': 669, '0.2-0.1': 964, '0.1-0.05': 809, '0.05-0.01': 1773, '<0.01': 4961}\n"
     ]
    }
   ],
   "source": [
    "t_tresholds = np.linspace(0.33, 0.66, num=4)\n",
    "t_increasing = np.linspace(1.1, 2, num=4)\n",
    "betas = [1,2,3,4]\n",
    "results = []\n",
    "for treshold in t_tresholds:\n",
    "    for increasing in t_increasing:\n",
    "        for beta in betas:\n",
    "            errors = np.zeros(n_iter)\n",
    "            _dict = {'>0.5':0, '0.5-0.4':0, '0.4-0.3':0, '0.3-0.2':0, '0.2-0.1':0, '0.1-0.05':0, '0.05-0.01':0, '<0.01':0}\n",
    "            repeat = 3\n",
    "            for test in range(repeat):\n",
    "                _error, loss_dict, B, threshold, rate = Glauber(vector, n_col, n_iter, beta, treshold, increasing)\n",
    "                errors += _error\n",
    "                for key in _dict.keys():\n",
    "                    _dict[key] += loss_dict[key] \n",
    "            mean = errors / repeat\n",
    "            for key in _dict.keys():\n",
    "                _dict[key] = _dict[key]/repeat\n",
    "            results.append((mean, _dict, beta, threshold, rate))\n",
    "        \n",
    "np.save('Glauber_sameRandom_result_4000', results)"
   ]
  },
  {
   "cell_type": "markdown",
   "metadata": {},
   "source": [
    "Glauber with initial B: 2 , threshold : 0.43333333333333335 , rate: 1.4000000000000001"
   ]
  },
  {
   "cell_type": "code",
   "execution_count": 10,
   "metadata": {},
   "outputs": [
    {
     "name": "stdout",
     "output_type": "stream",
     "text": [
      "Best results Metropolis:\n",
      "[array([0.494 , 0.4935, 0.4935, ..., 0.0055, 0.0055, 0.0055])\n",
      " {'>0.5': 5.5, '0.5-0.4': 458.5, '0.4-0.3': 763.5, '0.3-0.2': 1402.5, '0.2-0.1': 2640.0, '0.1-0.05': 1659.5, '0.05-0.01': 1769.0, '<0.01': 1301.5}\n",
      " 2 0.25 2.0]\n",
      "Best results Glauber:\n",
      "[array([0.487     , 0.48633333, 0.486     , ..., 0.        , 0.        ,\n",
      "       0.        ])\n",
      " {'>0.5': 0.0, '0.5-0.4': 356.3333333333333, '0.4-0.3': 514.0, '0.3-0.2': 659.6666666666666, '0.2-0.1': 937.0, '0.1-0.05': 707.3333333333334, '0.05-0.01': 1388.0, '<0.01': 5437.666666666667}\n",
      " 4 0.44 1.1]\n"
     ]
    }
   ],
   "source": [
    "def get_best_params(file):\n",
    "    results = np.load(file)\n",
    "    max_count = 0\n",
    "    best_params = None\n",
    "\n",
    "    for res in results:\n",
    "        loss_dict = res[1]\n",
    "        if loss_dict['<0.01'] > max_count:\n",
    "            max_count = loss_dict['<0.01']\n",
    "            best_params = res\n",
    "    \n",
    "    return best_params\n",
    "        \n",
    "best_params_glauber = get_best_params('Glauber_sameRandom_result_4000.npy')\n",
    "best_params_metro = get_best_params('Metro_results.npy')\n",
    "print('Best results Metropolis:')\n",
    "print(best_params_metro)\n",
    "print('Best results Glauber:')\n",
    "print(best_params_glauber)"
   ]
  },
  {
   "cell_type": "code",
   "execution_count": 261,
   "metadata": {},
   "outputs": [
    {
     "name": "stdout",
     "output_type": "stream",
     "text": [
      "Glauber with initial B: 4.0 , threshold : 0.44 , rate: 1.1\n",
      "{'>0.5': 0, '0.5-0.4': 285, '0.4-0.3': 522, '0.3-0.2': 695, '0.2-0.1': 1058, '0.1-0.05': 777, '0.05-0.01': 2470, '<0.01': 4193}\n",
      "Glauber with initial B: 4.0 , threshold : 0.44 , rate: 1.1\n",
      "{'>0.5': 0, '0.5-0.4': 356, '0.4-0.3': 492, '0.3-0.2': 581, '0.2-0.1': 985, '0.1-0.05': 523, '0.05-0.01': 1428, '<0.01': 5635}\n",
      "Glauber with initial B: 4.0 , threshold : 0.44 , rate: 1.1\n",
      "{'>0.5': 0, '0.5-0.4': 434, '0.4-0.3': 472, '0.3-0.2': 616, '0.2-0.1': 1007, '0.1-0.05': 796, '0.05-0.01': 1497, '<0.01': 5178}\n",
      "Glauber with initial B: 4.0 , threshold : 0.44 , rate: 1.1\n",
      "{'>0.5': 0, '0.5-0.4': 404, '0.4-0.3': 450, '0.3-0.2': 529, '0.2-0.1': 811, '0.1-0.05': 864, '0.05-0.01': 1727, '<0.01': 5215}\n",
      "Glauber with initial B: 4.0 , threshold : 0.44 , rate: 1.1\n",
      "{'>0.5': 0, '0.5-0.4': 348, '0.4-0.3': 493, '0.3-0.2': 668, '0.2-0.1': 922, '0.1-0.05': 670, '0.05-0.01': 1872, '<0.01': 5027}\n",
      "Glauber with initial B: 4.0 , threshold : 0.44 , rate: 1.1\n",
      "{'>0.5': 0, '0.5-0.4': 364, '0.4-0.3': 566, '0.3-0.2': 656, '0.2-0.1': 912, '0.1-0.05': 849, '0.05-0.01': 2400, '<0.01': 4253}\n"
     ]
    }
   ],
   "source": [
    "for i in range(6):\n",
    "    base_errs_glauber,_,_,_,_ = Glauber(vector, n_col, 10000, 4.0, 0.44, 1.1)"
   ]
  },
  {
   "cell_type": "code",
   "execution_count": 12,
   "metadata": {},
   "outputs": [
    {
     "name": "stdout",
     "output_type": "stream",
     "text": [
      "Glauber with initial B: 4 , threshold : 1.0 , rate: 1.0\n",
      "{'>0.5': 57, '0.5-0.4': 407, '0.4-0.3': 509, '0.3-0.2': 705, '0.2-0.1': 1084, '0.1-0.05': 684, '0.05-0.01': 1677, '<0.01': 4877}\n",
      "Metropolis with initial B: 2 , threshold : 1.0 , rate: 1.0\n",
      "{'>0.5': 0, '0.5-0.4': 403, '0.4-0.3': 530, '0.3-0.2': 692, '0.2-0.1': 1063, '0.1-0.05': 606, '0.05-0.01': 1365, '<0.01': 5341}\n",
      "Glauber with initial B: 4 , threshold : 1.0 , rate: 1.0\n",
      "{'>0.5': 66, '0.5-0.4': 322, '0.4-0.3': 467, '0.3-0.2': 739, '0.2-0.1': 872, '0.1-0.05': 715, '0.05-0.01': 1819, '<0.01': 5000}\n",
      "Metropolis with initial B: 2 , threshold : 1.0 , rate: 1.0\n",
      "{'>0.5': 0, '0.5-0.4': 436, '0.4-0.3': 500, '0.3-0.2': 768, '0.2-0.1': 938, '0.1-0.05': 714, '0.05-0.01': 1812, '<0.01': 4832}\n",
      "Glauber with initial B: 4 , threshold : 1.0 , rate: 1.0\n",
      "{'>0.5': 49, '0.5-0.4': 403, '0.4-0.3': 551, '0.3-0.2': 762, '0.2-0.1': 813, '0.1-0.05': 659, '0.05-0.01': 1791, '<0.01': 4972}\n",
      "Metropolis with initial B: 2 , threshold : 1.0 , rate: 1.0\n",
      "{'>0.5': 0, '0.5-0.4': 337, '0.4-0.3': 452, '0.3-0.2': 708, '0.2-0.1': 989, '0.1-0.05': 889, '0.05-0.01': 1644, '<0.01': 4981}\n",
      "Glauber with initial B: 4 , threshold : 1.0 , rate: 1.0\n",
      "{'>0.5': 33, '0.5-0.4': 332, '0.4-0.3': 537, '0.3-0.2': 726, '0.2-0.1': 1043, '0.1-0.05': 832, '0.05-0.01': 1510, '<0.01': 4987}\n",
      "Metropolis with initial B: 2 , threshold : 1.0 , rate: 1.0\n",
      "{'>0.5': 0, '0.5-0.4': 381, '0.4-0.3': 521, '0.3-0.2': 560, '0.2-0.1': 970, '0.1-0.05': 689, '0.05-0.01': 1289, '<0.01': 5590}\n"
     ]
    },
    {
     "data": {
      "image/png": "[encoded data removed]",
      "text/plain": [
       "<Figure size 1080x504 with 1 Axes>"
      ]
     },
     "metadata": {
      "needs_background": "light"
     },
     "output_type": "display_data"
    }
   ],
   "source": [
    "best_errs_glauber = best_params_glauber[0]\n",
    "best_beta_glauber, best_thresh_glauber, best_rate_glauber = best_params_glauber[2], best_params_glauber[3], best_params_glauber[4]\n",
    "\n",
    "best_errs_metro = best_params_metro[0]\n",
    "best_beta_metro, best_thresh_metro, best_rate_metro = best_params_metro[2], best_params_metro[3], best_params_metro[4]\n",
    "\n",
    "\"\"\"baseline_errs_glauber = np.zeros(n_iter)\n",
    "baseline_errs_metro = np.zeros(n_iter)\n",
    "for i in range(4):\n",
    "    base_errs_glauber,_,_,_,_ = Glauber(vector, n_col, n_iter, best_beta_glauber, 1.0, 1.0)\n",
    "    baseline_errs_glauber += np.array(base_errs_glauber)\n",
    "    \n",
    "    base_errs_metro,_,_,_,_ = Metropolis_chain(n_col, n_iter, best_beta_metro, 1.0, 1.0)\n",
    "    baseline_errs_metro += np.array(base_errs_metro)\n",
    "baseline_errs_glauber = baseline_errs_glauber / 4.0\n",
    "baseline_errs_metro = baseline_errs_metro / 4.0\"\"\"\n",
    "\n",
    "x = np.array(range(len(best_errs_glauber)))\n",
    "\n",
    "plt.figure(figsize=(15,7))\n",
    "plt.title(\"Evolution of error in function of the number of iterations\", size = 15)\n",
    "plt.plot(x, baseline_errs_glauber, color = 'cyan', label = 'baseline glauber')\n",
    "#plt.plot(x, baseline_errs_metro, color = 'blue', label = 'baseline metropolis')\n",
    "plt.plot(x, best_errs_glauber, color = 'orange', label = 'best glauber')\n",
    "plt.plot(x, best_errs_metro, color = 'red', label = 'best metropolis')\n",
    "\n",
    "\n",
    "plt.xlabel('Iteration number', size = 15)\n",
    "plt.ylabel('Error', size = 15)\n",
    "plt.legend(prop={'size': 15})\n",
    "plt.show()"
   ]
  },
  {
   "cell_type": "markdown",
   "metadata": {},
   "source": [
    "## Results ##  "
   ]
  },
  {
   "cell_type": "code",
   "execution_count": 34,
   "metadata": {
    "scrolled": true
   },
   "outputs": [
    {
     "name": "stdout",
     "output_type": "stream",
     "text": [
      "Metropolis with initial B: 2 , threshold : 0.6 , rate: 1.5\n"
     ]
    },
    {
     "ename": "KeyboardInterrupt",
     "evalue": "",
     "output_type": "error",
     "traceback": [
      "\u001b[0;31m---------------------------------------------------------------------------\u001b[0m",
      "\u001b[0;31mKeyboardInterrupt\u001b[0m                         Traceback (most recent call last)",
      "\u001b[0;32m<ipython-input-34-c12c6532579e>\u001b[0m in \u001b[0;36m<module>\u001b[0;34m\u001b[0m\n\u001b[0;32m----> 1\u001b[0;31m \u001b[0mMetropolis_chain\u001b[0m\u001b[0;34m(\u001b[0m\u001b[0mn_col\u001b[0m\u001b[0;34m,\u001b[0m \u001b[0;36m15000\u001b[0m\u001b[0;34m,\u001b[0m \u001b[0;36m2\u001b[0m\u001b[0;34m,\u001b[0m \u001b[0;36m0.6\u001b[0m\u001b[0;34m,\u001b[0m \u001b[0;36m1.5\u001b[0m\u001b[0;34m)\u001b[0m\u001b[0;34m\u001b[0m\u001b[0m\n\u001b[0m",
      "\u001b[0;32m<ipython-input-33-b5b671dbab0b>\u001b[0m in \u001b[0;36mMetropolis_chain\u001b[0;34m(dim, n_iter, B, threshold, rate)\u001b[0m\n\u001b[1;32m     10\u001b[0m         \u001b[0mto_test\u001b[0m \u001b[0;34m=\u001b[0m \u001b[0mtest\u001b[0m\u001b[0;34m.\u001b[0m\u001b[0mcopy\u001b[0m\u001b[0;34m(\u001b[0m\u001b[0;34m)\u001b[0m\u001b[0;34m\u001b[0m\u001b[0m\n\u001b[1;32m     11\u001b[0m         \u001b[0mto_test\u001b[0m\u001b[0;34m[\u001b[0m\u001b[0mto_flip\u001b[0m\u001b[0;34m]\u001b[0m \u001b[0;34m=\u001b[0m \u001b[0;34m-\u001b[0m\u001b[0mto_test\u001b[0m\u001b[0;34m[\u001b[0m\u001b[0mto_flip\u001b[0m\u001b[0;34m]\u001b[0m\u001b[0;34m\u001b[0m\u001b[0m\n\u001b[0;32m---> 12\u001b[0;31m         \u001b[0mproba\u001b[0m \u001b[0;34m=\u001b[0m \u001b[0mnp\u001b[0m\u001b[0;34m.\u001b[0m\u001b[0mminimum\u001b[0m\u001b[0;34m(\u001b[0m\u001b[0;36m1\u001b[0m\u001b[0;34m,\u001b[0m \u001b[0mnp\u001b[0m\u001b[0;34m.\u001b[0m\u001b[0mexp\u001b[0m\u001b[0;34m(\u001b[0m\u001b[0;34m-\u001b[0m\u001b[0mB\u001b[0m\u001b[0;34m*\u001b[0m\u001b[0;34m(\u001b[0m\u001b[0menergy\u001b[0m\u001b[0;34m(\u001b[0m\u001b[0mto_test\u001b[0m\u001b[0;34m)\u001b[0m\u001b[0;34m-\u001b[0m\u001b[0menergy\u001b[0m\u001b[0;34m(\u001b[0m\u001b[0mtest\u001b[0m\u001b[0;34m)\u001b[0m\u001b[0;34m)\u001b[0m\u001b[0;34m)\u001b[0m\u001b[0;34m)\u001b[0m\u001b[0;34m\u001b[0m\u001b[0m\n\u001b[0m\u001b[1;32m     13\u001b[0m         \u001b[0;32mif\u001b[0m \u001b[0mrandom\u001b[0m\u001b[0;34m.\u001b[0m\u001b[0mrandom\u001b[0m\u001b[0;34m(\u001b[0m\u001b[0;34m)\u001b[0m \u001b[0;34m<\u001b[0m \u001b[0mproba\u001b[0m\u001b[0;34m:\u001b[0m\u001b[0;34m\u001b[0m\u001b[0m\n\u001b[1;32m     14\u001b[0m             \u001b[0mtest\u001b[0m \u001b[0;34m=\u001b[0m \u001b[0mto_test\u001b[0m\u001b[0;34m\u001b[0m\u001b[0m\n",
      "\u001b[0;32m<ipython-input-6-f09906494336>\u001b[0m in \u001b[0;36menergy\u001b[0;34m(vector)\u001b[0m\n\u001b[1;32m      3\u001b[0m     \u001b[0mdot\u001b[0m \u001b[0;34m=\u001b[0m \u001b[0mnp\u001b[0m\u001b[0;34m.\u001b[0m\u001b[0mdot\u001b[0m\u001b[0;34m(\u001b[0m\u001b[0mW\u001b[0m\u001b[0;34m,\u001b[0m \u001b[0mvector\u001b[0m\u001b[0;34m)\u001b[0m\u001b[0;34m\u001b[0m\u001b[0m\n\u001b[1;32m      4\u001b[0m     \u001b[0;32mfor\u001b[0m \u001b[0mi\u001b[0m \u001b[0;32min\u001b[0m \u001b[0mrange\u001b[0m\u001b[0;34m(\u001b[0m\u001b[0mlen\u001b[0m\u001b[0;34m(\u001b[0m\u001b[0mY\u001b[0m\u001b[0;34m)\u001b[0m\u001b[0;34m)\u001b[0m\u001b[0;34m:\u001b[0m\u001b[0;34m\u001b[0m\u001b[0m\n\u001b[0;32m----> 5\u001b[0;31m         \u001b[0m_sum\u001b[0m \u001b[0;34m+=\u001b[0m \u001b[0;34m(\u001b[0m\u001b[0mY\u001b[0m\u001b[0;34m[\u001b[0m\u001b[0mi\u001b[0m\u001b[0;34m]\u001b[0m \u001b[0;34m-\u001b[0m \u001b[0mnp\u001b[0m\u001b[0;34m.\u001b[0m\u001b[0mmaximum\u001b[0m\u001b[0;34m(\u001b[0m\u001b[0;36m0\u001b[0m\u001b[0;34m,\u001b[0m \u001b[0;34m(\u001b[0m\u001b[0mdot\u001b[0m\u001b[0;34m[\u001b[0m\u001b[0mi\u001b[0m\u001b[0;34m]\u001b[0m\u001b[0;34m)\u001b[0m\u001b[0;34m/\u001b[0m\u001b[0mmath\u001b[0m\u001b[0;34m.\u001b[0m\u001b[0msqrt\u001b[0m\u001b[0;34m(\u001b[0m\u001b[0mn_col\u001b[0m\u001b[0;34m)\u001b[0m\u001b[0;34m)\u001b[0m\u001b[0;34m)\u001b[0m\u001b[0;34m**\u001b[0m\u001b[0;36m2\u001b[0m\u001b[0;34m\u001b[0m\u001b[0m\n\u001b[0m\u001b[1;32m      6\u001b[0m     \u001b[0;32mreturn\u001b[0m \u001b[0m_sum\u001b[0m\u001b[0;34m\u001b[0m\u001b[0m\n",
      "\u001b[0;31mKeyboardInterrupt\u001b[0m: "
     ]
    }
   ],
   "source": [
    "Metropolis_chain(n_col, 15000, 2, 0.6, 1.5)"
   ]
  },
  {
   "cell_type": "code",
   "execution_count": 32,
   "metadata": {
    "scrolled": true
   },
   "outputs": [
    {
     "name": "stdout",
     "output_type": "stream",
     "text": [
      "Glauber with initial B: 2 , threshold : 0.6 , rate: 1.5\n",
      "{'>0.5': 0, '0.5-0.4': 599, '0.4-0.3': 401, '0.3-0.2': 0, '0.2-0.1': 0, '0.1-0.05': 0, '0.05-0.01': 0, '<0.01': 0}\n"
     ]
    }
   ],
   "source": [
    "errs, loss_dict = Glauber(n_col, 1000, 2, 0.6, 1.5)"
   ]
  },
  {
   "cell_type": "code",
   "execution_count": 138,
   "metadata": {
    "scrolled": false
   },
   "outputs": [
    {
     "name": "stdout",
     "output_type": "stream",
     "text": [
      "0.496\n",
      "proba :  0.9845489830287478\n",
      "proba :  0.8422831403135678\n",
      "proba :  0.9999889196373277\n",
      "proba :  0.994215504899786\n",
      "proba :  0.00038431592612742094\n",
      "proba :  0.9883352936708885\n",
      "proba :  0.8753694779332746\n",
      "proba :  0.9735996411961392\n",
      "proba :  0.0026808444732746017\n",
      "proba :  0.46471755638484885\n",
      "0.494\n",
      "proba :  0.964639014329487\n",
      "proba :  0.00033072058389144177\n",
      "proba :  0.9821934076781726\n",
      "proba :  0.9955446172283464\n",
      "proba :  0.9999999995792042\n",
      "proba :  0.001799992561690944\n",
      "proba :  0.9999999342712989\n",
      "proba :  0.9999999028801558\n",
      "proba :  3.13499034398923e-07\n"
     ]
    },
    {
     "ename": "KeyboardInterrupt",
     "evalue": "",
     "output_type": "error",
     "traceback": [
      "\u001b[0;31m---------------------------------------------------------------------------\u001b[0m",
      "\u001b[0;31mKeyboardInterrupt\u001b[0m                         Traceback (most recent call last)",
      "\u001b[0;32m<ipython-input-138-13d3de16ae3b>\u001b[0m in \u001b[0;36m<module>\u001b[0;34m()\u001b[0m\n\u001b[1;32m      3\u001b[0m \u001b[0;32mfor\u001b[0m \u001b[0mb\u001b[0m \u001b[0;32min\u001b[0m \u001b[0mB_values\u001b[0m\u001b[0;34m:\u001b[0m\u001b[0;34m\u001b[0m\u001b[0m\n\u001b[1;32m      4\u001b[0m     \u001b[0;32mfor\u001b[0m \u001b[0mi\u001b[0m \u001b[0;32min\u001b[0m \u001b[0mrange\u001b[0m\u001b[0;34m(\u001b[0m\u001b[0;36m10\u001b[0m\u001b[0;34m)\u001b[0m\u001b[0;34m:\u001b[0m\u001b[0;34m\u001b[0m\u001b[0m\n\u001b[0;32m----> 5\u001b[0;31m         \u001b[0mvalues\u001b[0m\u001b[0;34m.\u001b[0m\u001b[0mappend\u001b[0m\u001b[0;34m(\u001b[0m\u001b[0;34m(\u001b[0m\u001b[0mb\u001b[0m\u001b[0;34m,\u001b[0m\u001b[0mGlauber\u001b[0m\u001b[0;34m(\u001b[0m\u001b[0mn_col\u001b[0m\u001b[0;34m,\u001b[0m \u001b[0;36m50\u001b[0m\u001b[0;34m,\u001b[0m \u001b[0mb\u001b[0m\u001b[0;34m,\u001b[0m \u001b[0;36m0.75\u001b[0m\u001b[0;34m,\u001b[0m \u001b[0;36m1.75\u001b[0m\u001b[0;34m)\u001b[0m\u001b[0;34m)\u001b[0m\u001b[0;34m)\u001b[0m\u001b[0;34m\u001b[0m\u001b[0m\n\u001b[0m",
      "\u001b[0;32m<ipython-input-133-08287a770369>\u001b[0m in \u001b[0;36mGlauber\u001b[0;34m(dim, n_iter, B, treshold, rate)\u001b[0m\n\u001b[1;32m      9\u001b[0m         \u001b[0mflipped\u001b[0m \u001b[0;34m=\u001b[0m \u001b[0mtest\u001b[0m\u001b[0;34m.\u001b[0m\u001b[0mcopy\u001b[0m\u001b[0;34m(\u001b[0m\u001b[0;34m)\u001b[0m\u001b[0;34m\u001b[0m\u001b[0m\n\u001b[1;32m     10\u001b[0m         \u001b[0mflipped\u001b[0m\u001b[0;34m[\u001b[0m\u001b[0mto_flip\u001b[0m\u001b[0;34m]\u001b[0m \u001b[0;34m=\u001b[0m \u001b[0mtest\u001b[0m\u001b[0;34m[\u001b[0m\u001b[0mto_flip\u001b[0m\u001b[0;34m]\u001b[0m\u001b[0;34m*\u001b[0m\u001b[0;34m-\u001b[0m\u001b[0;36m1\u001b[0m\u001b[0;34m\u001b[0m\u001b[0m\n\u001b[0;32m---> 11\u001b[0;31m         \u001b[0mproba\u001b[0m \u001b[0;34m=\u001b[0m \u001b[0;34m(\u001b[0m\u001b[0;36m1\u001b[0m \u001b[0;34m+\u001b[0m \u001b[0mtest\u001b[0m\u001b[0;34m[\u001b[0m\u001b[0mto_flip\u001b[0m\u001b[0;34m]\u001b[0m\u001b[0;34m*\u001b[0m\u001b[0mmath\u001b[0m\u001b[0;34m.\u001b[0m\u001b[0mtanh\u001b[0m\u001b[0;34m(\u001b[0m\u001b[0mB\u001b[0m\u001b[0;34m*\u001b[0m\u001b[0;34m(\u001b[0m\u001b[0menergy\u001b[0m\u001b[0;34m(\u001b[0m\u001b[0mflipped\u001b[0m\u001b[0;34m)\u001b[0m \u001b[0;34m-\u001b[0m \u001b[0menergy\u001b[0m\u001b[0;34m(\u001b[0m\u001b[0mtest\u001b[0m\u001b[0;34m)\u001b[0m\u001b[0;34m)\u001b[0m\u001b[0;34m)\u001b[0m\u001b[0;34m)\u001b[0m\u001b[0;34m/\u001b[0m\u001b[0;36m2.0\u001b[0m\u001b[0;34m\u001b[0m\u001b[0m\n\u001b[0m\u001b[1;32m     12\u001b[0m         \u001b[0mprint\u001b[0m\u001b[0;34m(\u001b[0m\u001b[0;34m\"proba : \"\u001b[0m\u001b[0;34m,\u001b[0m \u001b[0mproba\u001b[0m\u001b[0;34m)\u001b[0m\u001b[0;34m\u001b[0m\u001b[0m\n\u001b[1;32m     13\u001b[0m         \u001b[0;32mif\u001b[0m \u001b[0mrandom\u001b[0m\u001b[0;34m.\u001b[0m\u001b[0mrandom\u001b[0m\u001b[0;34m(\u001b[0m\u001b[0;34m)\u001b[0m \u001b[0;34m<\u001b[0m \u001b[0mproba\u001b[0m\u001b[0;34m:\u001b[0m\u001b[0;34m\u001b[0m\u001b[0m\n",
      "\u001b[0;32m<ipython-input-4-be1cd86d6e00>\u001b[0m in \u001b[0;36menergy\u001b[0;34m(vector)\u001b[0m\n\u001b[1;32m      2\u001b[0m     \u001b[0m_sum\u001b[0m \u001b[0;34m=\u001b[0m \u001b[0;36m0\u001b[0m\u001b[0;34m\u001b[0m\u001b[0m\n\u001b[1;32m      3\u001b[0m     \u001b[0;32mfor\u001b[0m \u001b[0mi\u001b[0m \u001b[0;32min\u001b[0m \u001b[0mrange\u001b[0m\u001b[0;34m(\u001b[0m\u001b[0mlen\u001b[0m\u001b[0;34m(\u001b[0m\u001b[0mY\u001b[0m\u001b[0;34m)\u001b[0m\u001b[0;34m)\u001b[0m\u001b[0;34m:\u001b[0m\u001b[0;34m\u001b[0m\u001b[0m\n\u001b[0;32m----> 4\u001b[0;31m         \u001b[0m_sum\u001b[0m \u001b[0;34m+=\u001b[0m \u001b[0;34m(\u001b[0m\u001b[0mY\u001b[0m\u001b[0;34m[\u001b[0m\u001b[0mi\u001b[0m\u001b[0;34m]\u001b[0m \u001b[0;34m-\u001b[0m \u001b[0mnp\u001b[0m\u001b[0;34m.\u001b[0m\u001b[0mmaximum\u001b[0m\u001b[0;34m(\u001b[0m\u001b[0;36m0\u001b[0m\u001b[0;34m,\u001b[0m \u001b[0;34m(\u001b[0m\u001b[0mnp\u001b[0m\u001b[0;34m.\u001b[0m\u001b[0mdot\u001b[0m\u001b[0;34m(\u001b[0m\u001b[0mW\u001b[0m\u001b[0;34m,\u001b[0m \u001b[0mvector\u001b[0m\u001b[0;34m)\u001b[0m\u001b[0;34m[\u001b[0m\u001b[0mi\u001b[0m\u001b[0;34m]\u001b[0m\u001b[0;34m)\u001b[0m\u001b[0;34m/\u001b[0m\u001b[0mmath\u001b[0m\u001b[0;34m.\u001b[0m\u001b[0msqrt\u001b[0m\u001b[0;34m(\u001b[0m\u001b[0mn_col\u001b[0m\u001b[0;34m)\u001b[0m\u001b[0;34m)\u001b[0m\u001b[0;34m)\u001b[0m\u001b[0;34m**\u001b[0m\u001b[0;36m2\u001b[0m\u001b[0;34m\u001b[0m\u001b[0m\n\u001b[0m\u001b[1;32m      5\u001b[0m     \u001b[0;32mreturn\u001b[0m \u001b[0m_sum\u001b[0m\u001b[0;34m\u001b[0m\u001b[0m\n",
      "\u001b[0;31mKeyboardInterrupt\u001b[0m: "
     ]
    }
   ],
   "source": [
    "values = []\n",
    "B_values = np.linspace(1, 10, num = 5)\n",
    "for b in B_values:\n",
    "    for i in range(3):\n",
    "        values.append((b,Glauber(n_col, 50, b, 0.75, 1.75)))"
   ]
  },
  {
   "cell_type": "code",
   "execution_count": 11,
   "metadata": {},
   "outputs": [
    {
     "data": {
      "text/plain": [
       "array([0.5 , 0.55, 0.6 , 0.65, 0.7 , 0.75, 0.8 , 0.85, 0.9 , 0.95])"
      ]
     },
     "execution_count": 11,
     "metadata": {},
     "output_type": "execute_result"
    }
   ],
   "source": [
    "t_tresholds"
   ]
  },
  {
   "cell_type": "code",
   "execution_count": null,
   "metadata": {},
   "outputs": [],
   "source": [
    "errors = []\n",
    "for i in range(N):\n",
    "    error = #Glauber ou Metropolis_chain selon best_set_up\n",
    "    errors.append(error)\n",
    "mean = np.mean(errors)\n",
    "variance = np.var(errors)\n",
    "print('Mean error : ', mean)\n",
    "print('Variance of error : ' variance)"
   ]
  },
  {
   "cell_type": "code",
   "execution_count": 86,
   "metadata": {},
   "outputs": [
    {
     "data": {
      "text/plain": [
       "('Metropolis', 'treshold :', 0.5, 'rate :', 5.0, 'error :', 0.015)"
      ]
     },
     "execution_count": 86,
     "metadata": {},
     "output_type": "execute_result"
    }
   ],
   "source": [
    "best_set_up"
   ]
  },
  {
   "cell_type": "code",
   "execution_count": 82,
   "metadata": {},
   "outputs": [
    {
     "data": {
      "text/plain": [
       "array([1.5, 2. , 2.5, 3. , 3.5, 4. , 4.5, 5. ])"
      ]
     },
     "execution_count": 82,
     "metadata": {},
     "output_type": "execute_result"
    }
   ],
   "source": [
    "t_increasing = np.linspace(1.5, 5, num=8)\n",
    "t_increasing"
   ]
  },
  {
   "cell_type": "code",
   "execution_count": null,
   "metadata": {},
   "outputs": [],
   "source": [
    "BEST_SO_FAR = 0.01411756195508118 #Metropolis_chain(n_col, 100, B) 0.8"
   ]
  }
 ],
 "metadata": {
  "kernelspec": {
   "display_name": "Python 3",
   "language": "python",
   "name": "python3"
  },
  "language_info": {
   "codemirror_mode": {
    "name": "ipython",
    "version": 3
   },
   "file_extension": ".py",
   "mimetype": "text/x-python",
   "name": "python",
   "nbconvert_exporter": "python",
   "pygments_lexer": "ipython3",
   "version": "3.6.6"
  }
 },
 "nbformat": 4,
 "nbformat_minor": 2
}

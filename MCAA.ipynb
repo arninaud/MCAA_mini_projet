{
 "cells": [
  {
   "cell_type": "markdown",
   "metadata": {},
   "source": [
    "## Imports ##"
   ]
  },
  {
   "cell_type": "code",
   "execution_count": 1,
   "metadata": {},
   "outputs": [],
   "source": [
    "import numpy as np\n",
    "import pandas as pd\n",
    "import math\n",
    "from numpy import random\n",
    "from numpy import linalg"
   ]
  },
  {
   "cell_type": "markdown",
   "metadata": {},
   "source": [
    "## Input ##"
   ]
  },
  {
   "cell_type": "code",
   "execution_count": 2,
   "metadata": {},
   "outputs": [],
   "source": [
    "m_row = 1000 \n",
    "n_col = 10000 # needs to be big\n",
    "possibilities = [-1, 1]"
   ]
  },
  {
   "cell_type": "code",
   "execution_count": 3,
   "metadata": {},
   "outputs": [
    {
     "name": "stdout",
     "output_type": "stream",
     "text": [
      "(1000, 10000) (10000,) (1000,)\n"
     ]
    }
   ],
   "source": [
    "def initialize(m_row, n_col):\n",
    "    W = np.random.normal(size = (m_row, n_col)) \n",
    "    X = np.random.choice(possibilities, n_col)\n",
    "    Y = np.maximum((np.dot(W, X)/math.sqrt(n_col)), 0)\n",
    "    return W, X, Y\n",
    "\n",
    "W, X, Y = initialize(m_row, n_col)\n",
    "T = 1\n",
    "B = 1/T\n",
    "n_iter = 10\n",
    "N = 100\n",
    "print(np.shape(W), np.shape(X), np.shape(Y))"
   ]
  },
  {
   "cell_type": "markdown",
   "metadata": {},
   "source": [
    "## Helper functions ##"
   ]
  },
  {
   "cell_type": "code",
   "execution_count": 4,
   "metadata": {},
   "outputs": [],
   "source": [
    "def energy(vector):\n",
    "    _sum = 0\n",
    "    dot_product = np.dot(W, vector)\n",
    "    for i in range(len(W)):\n",
    "        _sum += (Y[i] - np.maximum(0, dot_product[i]/math.sqrt(n_col)))**2\n",
    "    return _sum"
   ]
  },
  {
   "cell_type": "code",
   "execution_count": 5,
   "metadata": {},
   "outputs": [
    {
     "name": "stdout",
     "output_type": "stream",
     "text": [
      "True\n"
     ]
    }
   ],
   "source": [
    "print(energy(X) == 0.0)"
   ]
  },
  {
   "cell_type": "code",
   "execution_count": 33,
   "metadata": {},
   "outputs": [],
   "source": [
    "def error(vector):\n",
    "    return np.sum((vector - X)**2) / (4 * n_col)"
   ]
  },
  {
   "cell_type": "code",
   "execution_count": 86,
   "metadata": {},
   "outputs": [],
   "source": [
    "def Metropolis_chain(dim, n_iter, B, rate, rate_iter_change):\n",
    "    test = np.random.choice(possibilities, dim)\n",
    "    errors = []\n",
    "    low_energy = 10000\n",
    "    \n",
    "    for _iter in range(n_iter):\n",
    "        #if _iter > n_iter*treshold:\n",
    "        if _iter % int(rate_iter_change * n_iter) == int(rate_iter_change * n_iter) - 1: \n",
    "            B = B * rate\n",
    "            \n",
    "        to_flip = np.random.randint(0, dim)\n",
    "        to_test = np.copy(test)\n",
    "        to_test[to_flip] = -to_test[to_flip]\n",
    "        proba = np.minimum(1, np.exp(-B*(energy(to_test)-energy(test))))\n",
    "        \n",
    "        if random.random() < proba:\n",
    "            # Accepted case\n",
    "            test = to_test\n",
    "            \n",
    "        # Save new error term for plot\n",
    "        errors.append(error(test))\n",
    "        \n",
    "        # Save lowest energy\n",
    "        ener = energy(test)\n",
    "        if ener < low_energy:\n",
    "            low_energy = ener\n",
    "    \n",
    "    low_error = errors[-1]\n",
    "    return test, low_energy, low_error, errors    "
   ]
  },
  {
   "cell_type": "code",
   "execution_count": 8,
   "metadata": {},
   "outputs": [],
   "source": [
    "def Glauber(dim, n_iter, B, treshold, rate):\n",
    "    test = np.random.choice(possibilities, dim)\n",
    "    for _iter in range(n_iter):\n",
    "        if _iter > n_iter*treshold:\n",
    "            B = B*rate\n",
    "        to_flip = np.random.randint(0, dim)\n",
    "        proba = (1 + test[to_flip]*math.tanh(B*(energy(test * -1) - energy(test))))/2.0\n",
    "        if random.random() < proba:\n",
    "            test[to_flip] = 1 \n",
    "        else:\n",
    "            test[to_flip] = -1\n",
    "    return test, error(test)"
   ]
  },
  {
   "cell_type": "code",
   "execution_count": 103,
   "metadata": {
    "scrolled": true
   },
   "outputs": [
    {
     "name": "stdout",
     "output_type": "stream",
     "text": [
      "Start\n",
      "init_B: 0.1 change_B: 2 energy: 444.4237458448838\n",
      "init_B: 0.1 change_B: 5 energy: 477.3635012544742\n",
      "init_B: 0.1 change_B: 10 energy: 433.6029711406104\n",
      "init_B: 0.1 change_B: 20 energy: 446.6967689011138\n",
      "init_B: 0.1 change_B: 50 energy: 418.161792832904\n",
      "init_B: 0.1 change_B: 75 energy: 459.610228074645\n",
      "init_B: 0.1 change_B: 100 energy: 465.94527043975125\n",
      "init_B: 0.1 change_B: 150 energy: 504.085762193623\n",
      "init_B: 0.25 change_B: 2 energy: 443.50944952185046\n",
      "init_B: 0.25 change_B: 5 energy: 450.0673427670765\n",
      "init_B: 0.25 change_B: 10 energy: 452.7454178680771\n",
      "init_B: 0.25 change_B: 20 energy: 484.71130810511\n",
      "init_B: 0.25 change_B: 50 energy: 443.1068253107573\n",
      "init_B: 0.25 change_B: 75 energy: 505.50650375657057\n",
      "init_B: 0.25 change_B: 100 energy: 473.5301659674238\n",
      "init_B: 0.25 change_B: 150 energy: 460.188500442851\n",
      "init_B: 0.5 change_B: 2 energy: 446.3301484573286\n",
      "init_B: 0.5 change_B: 5 energy: 452.5969832071845\n",
      "init_B: 0.5 change_B: 10 energy: 483.1361132700293\n",
      "init_B: 0.5 change_B: 20 energy: 466.61072520854145\n",
      "init_B: 0.5 change_B: 50 energy: 452.9558456124764\n",
      "init_B: 0.5 change_B: 75 energy: 495.2812480879604\n",
      "init_B: 0.5 change_B: 100 energy: 461.4330897291961\n",
      "init_B: 0.5 change_B: 150 energy: 506.69494094308527\n",
      "init_B: 1 change_B: 2 energy: 490.992504344895\n",
      "init_B: 1 change_B: 5 energy: 442.7719985381245\n",
      "init_B: 1 change_B: 10 energy: 437.00219805594884\n",
      "init_B: 1 change_B: 20 energy: 448.3263310211281\n",
      "init_B: 1 change_B: 50 energy: 453.73400270687387\n",
      "init_B: 1 change_B: 75 energy: 465.56472599340515\n",
      "init_B: 1 change_B: 100 energy: 442.95534211242403\n",
      "init_B: 1 change_B: 150 energy: 513.6792617172665\n",
      "init_B: 5 change_B: 2 energy: 423.0848414194651\n",
      "init_B: 5 change_B: 5 energy: 479.1534157126851\n",
      "init_B: 5 change_B: 10 energy: 456.43174849301795\n",
      "init_B: 5 change_B: 20 energy: 478.5265714048669\n",
      "init_B: 5 change_B: 50 energy: 490.5954772897705\n",
      "init_B: 5 change_B: 75 energy: 447.9049264284094\n",
      "init_B: 5 change_B: 100 energy: 440.57271992973597\n",
      "init_B: 5 change_B: 150 energy: 450.2275617310863\n",
      "init_B: 10 change_B: 2 energy: 438.61798450608137\n",
      "init_B: 10 change_B: 5 energy: 413.06423628099867\n",
      "init_B: 10 change_B: 10 energy: 475.4995263907235\n",
      "init_B: 10 change_B: 20 energy: 438.72672150453093\n",
      "init_B: 10 change_B: 50 energy: 427.57888915724317\n",
      "init_B: 10 change_B: 75 energy: 489.1731839029566\n",
      "init_B: 10 change_B: 100 energy: 459.1834700068574\n",
      "init_B: 10 change_B: 150 energy: 422.63515380360576\n"
     ]
    }
   ],
   "source": [
    "# Run of Metropolis algo to find best parameters:\n",
    "\"\"\"dim = len(X)\n",
    "inits_B = [0.1, 0.25, 0.5, 1, 5, 10] # different initialization for B\n",
    "changes_B = [2, 5, 10, 20, 50, 75, 100, 150] # different number of iterations before increasing B\n",
    "\n",
    "lowest_energy = 10000\n",
    "best_errors = []\n",
    "best_init_B = 0\n",
    "best_change_B = 0\n",
    "\n",
    "print('Start')\n",
    "for init_B in inits_B:\n",
    "    for change_B in changes_B:\n",
    "        X_hat, ener, metropolis_errs = Metropolis_chain(dim, 1000, init_B, change_B)\n",
    "        if ener < lowest_energy:\n",
    "            lowest_energy = ener\n",
    "            best_errors = metropolis_errs\n",
    "            best_init_B = init_B\n",
    "            best_change_B = change_B\n",
    "        print(\"init_B: {} change_B: {} energy: {}\".format(init_B, change_B, ener))\"\"\""
   ]
  },
  {
   "cell_type": "markdown",
   "metadata": {},
   "source": [
    "## Optimization ##"
   ]
  },
  {
   "cell_type": "code",
   "execution_count": 83,
   "metadata": {},
   "outputs": [],
   "source": [
    "_, low_energy, metro_error, errors = Metropolis_chain(n_col, 1000, B = 1, rate = 5, rate_iter_change = 0.05)"
   ]
  },
  {
   "cell_type": "code",
   "execution_count": 85,
   "metadata": {},
   "outputs": [
    {
     "name": "stdout",
     "output_type": "stream",
     "text": [
      "401.7608609587946\n",
      "0.4891\n",
      "0.4889\n"
     ]
    }
   ],
   "source": [
    "print(low_energy)\n",
    "print(metro_error)\n",
    "print(min(errors))"
   ]
  },
  {
   "cell_type": "code",
   "execution_count": 89,
   "metadata": {},
   "outputs": [
    {
     "ename": "KeyboardInterrupt",
     "evalue": "",
     "output_type": "error",
     "traceback": [
      "\u001b[0;31m---------------------------------------------------------------------------\u001b[0m",
      "\u001b[0;31mKeyboardInterrupt\u001b[0m                         Traceback (most recent call last)",
      "\u001b[0;32m<ipython-input-89-744277edc0a5>\u001b[0m in \u001b[0;36m<module>\u001b[0;34m\u001b[0m\n\u001b[1;32m     14\u001b[0m             \u001b[0mmetro_results\u001b[0m \u001b[0;34m=\u001b[0m \u001b[0;34m[\u001b[0m\u001b[0;34m]\u001b[0m\u001b[0;34m\u001b[0m\u001b[0m\n\u001b[1;32m     15\u001b[0m             \u001b[0;31m#glauber_results = []\u001b[0m\u001b[0;34m\u001b[0m\u001b[0;34m\u001b[0m\u001b[0m\n\u001b[0;32m---> 16\u001b[0;31m             \u001b[0m_\u001b[0m\u001b[0;34m,\u001b[0m \u001b[0mlow_energy\u001b[0m\u001b[0;34m,\u001b[0m \u001b[0mmetro_error\u001b[0m\u001b[0;34m,\u001b[0m \u001b[0merrors\u001b[0m \u001b[0;34m=\u001b[0m \u001b[0mMetropolis_chain\u001b[0m\u001b[0;34m(\u001b[0m\u001b[0mn_col\u001b[0m\u001b[0;34m,\u001b[0m \u001b[0mn_iter\u001b[0m\u001b[0;34m,\u001b[0m \u001b[0mB\u001b[0m\u001b[0;34m,\u001b[0m \u001b[0mincreasing\u001b[0m\u001b[0;34m,\u001b[0m \u001b[0mrate_change\u001b[0m\u001b[0;34m)\u001b[0m\u001b[0;34m\u001b[0m\u001b[0m\n\u001b[0m\u001b[1;32m     17\u001b[0m             \u001b[0;31m#glauber_error = Glauber(n_col, n_iter, B, treshold, increasing)\u001b[0m\u001b[0;34m\u001b[0m\u001b[0;34m\u001b[0m\u001b[0m\n\u001b[1;32m     18\u001b[0m             \u001b[0mmetro_results\u001b[0m\u001b[0;34m.\u001b[0m\u001b[0mappend\u001b[0m\u001b[0;34m(\u001b[0m\u001b[0mmetro_error\u001b[0m\u001b[0;34m)\u001b[0m\u001b[0;34m\u001b[0m\u001b[0m\n",
      "\u001b[0;32m<ipython-input-86-22c042efb4c7>\u001b[0m in \u001b[0;36mMetropolis_chain\u001b[0;34m(dim, n_iter, B, rate, rate_iter_change)\u001b[0m\n\u001b[1;32m     12\u001b[0m         \u001b[0mto_test\u001b[0m \u001b[0;34m=\u001b[0m \u001b[0mnp\u001b[0m\u001b[0;34m.\u001b[0m\u001b[0mcopy\u001b[0m\u001b[0;34m(\u001b[0m\u001b[0mtest\u001b[0m\u001b[0;34m)\u001b[0m\u001b[0;34m\u001b[0m\u001b[0m\n\u001b[1;32m     13\u001b[0m         \u001b[0mto_test\u001b[0m\u001b[0;34m[\u001b[0m\u001b[0mto_flip\u001b[0m\u001b[0;34m]\u001b[0m \u001b[0;34m=\u001b[0m \u001b[0;34m-\u001b[0m\u001b[0mto_test\u001b[0m\u001b[0;34m[\u001b[0m\u001b[0mto_flip\u001b[0m\u001b[0;34m]\u001b[0m\u001b[0;34m\u001b[0m\u001b[0m\n\u001b[0;32m---> 14\u001b[0;31m         \u001b[0mproba\u001b[0m \u001b[0;34m=\u001b[0m \u001b[0mnp\u001b[0m\u001b[0;34m.\u001b[0m\u001b[0mminimum\u001b[0m\u001b[0;34m(\u001b[0m\u001b[0;36m1\u001b[0m\u001b[0;34m,\u001b[0m \u001b[0mnp\u001b[0m\u001b[0;34m.\u001b[0m\u001b[0mexp\u001b[0m\u001b[0;34m(\u001b[0m\u001b[0;34m-\u001b[0m\u001b[0mB\u001b[0m\u001b[0;34m*\u001b[0m\u001b[0;34m(\u001b[0m\u001b[0menergy\u001b[0m\u001b[0;34m(\u001b[0m\u001b[0mto_test\u001b[0m\u001b[0;34m)\u001b[0m\u001b[0;34m-\u001b[0m\u001b[0menergy\u001b[0m\u001b[0;34m(\u001b[0m\u001b[0mtest\u001b[0m\u001b[0;34m)\u001b[0m\u001b[0;34m)\u001b[0m\u001b[0;34m)\u001b[0m\u001b[0;34m)\u001b[0m\u001b[0;34m\u001b[0m\u001b[0m\n\u001b[0m\u001b[1;32m     15\u001b[0m \u001b[0;34m\u001b[0m\u001b[0m\n\u001b[1;32m     16\u001b[0m         \u001b[0;32mif\u001b[0m \u001b[0mrandom\u001b[0m\u001b[0;34m.\u001b[0m\u001b[0mrandom\u001b[0m\u001b[0;34m(\u001b[0m\u001b[0;34m)\u001b[0m \u001b[0;34m<\u001b[0m \u001b[0mproba\u001b[0m\u001b[0;34m:\u001b[0m\u001b[0;34m\u001b[0m\u001b[0m\n",
      "\u001b[0;32m<ipython-input-4-a72719cd72be>\u001b[0m in \u001b[0;36menergy\u001b[0;34m(vector)\u001b[0m\n\u001b[1;32m      3\u001b[0m     \u001b[0mdot_product\u001b[0m \u001b[0;34m=\u001b[0m \u001b[0mnp\u001b[0m\u001b[0;34m.\u001b[0m\u001b[0mdot\u001b[0m\u001b[0;34m(\u001b[0m\u001b[0mW\u001b[0m\u001b[0;34m,\u001b[0m \u001b[0mvector\u001b[0m\u001b[0;34m)\u001b[0m\u001b[0;34m\u001b[0m\u001b[0m\n\u001b[1;32m      4\u001b[0m     \u001b[0;32mfor\u001b[0m \u001b[0mi\u001b[0m \u001b[0;32min\u001b[0m \u001b[0mrange\u001b[0m\u001b[0;34m(\u001b[0m\u001b[0mlen\u001b[0m\u001b[0;34m(\u001b[0m\u001b[0mW\u001b[0m\u001b[0;34m)\u001b[0m\u001b[0;34m)\u001b[0m\u001b[0;34m:\u001b[0m\u001b[0;34m\u001b[0m\u001b[0m\n\u001b[0;32m----> 5\u001b[0;31m         \u001b[0m_sum\u001b[0m \u001b[0;34m+=\u001b[0m \u001b[0;34m(\u001b[0m\u001b[0mY\u001b[0m\u001b[0;34m[\u001b[0m\u001b[0mi\u001b[0m\u001b[0;34m]\u001b[0m \u001b[0;34m-\u001b[0m \u001b[0mnp\u001b[0m\u001b[0;34m.\u001b[0m\u001b[0mmaximum\u001b[0m\u001b[0;34m(\u001b[0m\u001b[0;36m0\u001b[0m\u001b[0;34m,\u001b[0m \u001b[0mdot_product\u001b[0m\u001b[0;34m[\u001b[0m\u001b[0mi\u001b[0m\u001b[0;34m]\u001b[0m\u001b[0;34m/\u001b[0m\u001b[0mmath\u001b[0m\u001b[0;34m.\u001b[0m\u001b[0msqrt\u001b[0m\u001b[0;34m(\u001b[0m\u001b[0mn_col\u001b[0m\u001b[0;34m)\u001b[0m\u001b[0;34m)\u001b[0m\u001b[0;34m)\u001b[0m\u001b[0;34m**\u001b[0m\u001b[0;36m2\u001b[0m\u001b[0;34m\u001b[0m\u001b[0m\n\u001b[0m\u001b[1;32m      6\u001b[0m     \u001b[0;32mreturn\u001b[0m \u001b[0m_sum\u001b[0m\u001b[0;34m\u001b[0m\u001b[0m\n",
      "\u001b[0;31mKeyboardInterrupt\u001b[0m: "
     ]
    }
   ],
   "source": [
    "n_iter = 2000\n",
    "B = 0.25\n",
    "rates_change = np.linspace(0.05, 0.5, num=10)\n",
    "t_increasing = np.linspace(1.2, 5, num=8)\n",
    "\n",
    "errors_tab = np.zeros((len(t_increasing), len(rates_change)))\n",
    "\n",
    "best_error = 1e6\n",
    "best_set_up = None\n",
    "\n",
    "for i, rate_change in enumerate(rates_change):\n",
    "    for j, increasing in enumerate(t_increasing):\n",
    "        for test in range(2):\n",
    "            metro_results = []\n",
    "            #glauber_results = []\n",
    "            _, low_energy, metro_error, errors = Metropolis_chain(n_col, n_iter, B, increasing, rate_change)\n",
    "            #glauber_error = Glauber(n_col, n_iter, B, treshold, increasing)\n",
    "            metro_results.append(metro_error)\n",
    "            #glauber_results.append(glauber_error)\n",
    "            print(\"Rate change: {}, Rate increase beta: {}\".format(rate_change, increasing))\n",
    "            print(\"Lowest energy, last error, min error: {} , {} , {}\".format(low_energy, metro_error, min(errors)))\n",
    "        metro_mean = np.mean(metro_results)\n",
    "        errors_tab[i, j] = metro_mean\n",
    "        if(metro_mean < best_error):\n",
    "            best_error = metro_mean\n",
    "            best_set_up = (\"Metropolis\", \"treshold :\",treshold, \"rate :\", increasing, \"error :\", best_error)\n",
    "        \"\"\"glauber_mean = np.mean(glauber_results)\n",
    "        if(glauber_mean < best_error):\n",
    "            best_error = glauber_mean\n",
    "            best_set_up = (\"Glauber \" ,\"treshold :\",treshold, \"rate :\", increasing, \"error :\", best_error)\"\"\""
   ]
  },
  {
   "cell_type": "markdown",
   "metadata": {},
   "source": [
    "## Results ##  "
   ]
  },
  {
   "cell_type": "code",
   "execution_count": null,
   "metadata": {},
   "outputs": [],
   "source": [
    "errors = []\n",
    "for i i range(N):\n",
    "    error = #Glauber ou Metropolis_chain selon best_set_up\n",
    "    errors.append(error)\n",
    "mean = np.mean(errors)\n",
    "variance = np.var(errors)\n",
    "print('Mean error : ', mean)\n",
    "print('Variance of error : ' variance)"
   ]
  },
  {
   "cell_type": "code",
   "execution_count": 86,
   "metadata": {},
   "outputs": [
    {
     "data": {
      "text/plain": [
       "('Metropolis', 'treshold :', 0.5, 'rate :', 5.0, 'error :', 0.015)"
      ]
     },
     "execution_count": 86,
     "metadata": {},
     "output_type": "execute_result"
    }
   ],
   "source": [
    "best_set_up"
   ]
  },
  {
   "cell_type": "code",
   "execution_count": 82,
   "metadata": {},
   "outputs": [
    {
     "data": {
      "text/plain": [
       "array([1.5, 2. , 2.5, 3. , 3.5, 4. , 4.5, 5. ])"
      ]
     },
     "execution_count": 82,
     "metadata": {},
     "output_type": "execute_result"
    }
   ],
   "source": [
    "t_increasing = np.linspace(1.5, 5, num=8)\n",
    "t_increasing"
   ]
  },
  {
   "cell_type": "code",
   "execution_count": null,
   "metadata": {},
   "outputs": [],
   "source": [
    "BEST_SO_FAR = 0.01411756195508118 #Metropolis_chain(n_col, 100, B) 0.8"
   ]
  }
 ],
 "metadata": {
  "kernelspec": {
   "display_name": "Python 3",
   "language": "python",
   "name": "python3"
  },
  "language_info": {
   "codemirror_mode": {
    "name": "ipython",
    "version": 3
   },
   "file_extension": ".py",
   "mimetype": "text/x-python",
   "name": "python",
   "nbconvert_exporter": "python",
   "pygments_lexer": "ipython3",
   "version": "3.6.6"
  }
 },
 "nbformat": 4,
 "nbformat_minor": 2
}

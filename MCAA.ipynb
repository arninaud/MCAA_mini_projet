{
 "cells": [
  {
   "cell_type": "markdown",
   "metadata": {},
   "source": [
    "## Imports ##"
   ]
  },
  {
   "cell_type": "code",
   "execution_count": 17,
   "metadata": {},
   "outputs": [],
   "source": [
    "import numpy as np\n",
    "import pandas as pd\n",
    "import math\n",
    "from numpy import random\n",
    "from numpy import linalg"
   ]
  },
  {
   "cell_type": "markdown",
   "metadata": {},
   "source": [
    "## Input ##"
   ]
  },
  {
   "cell_type": "code",
   "execution_count": 13,
   "metadata": {},
   "outputs": [],
   "source": [
    "n_row = 10\n",
    "n_col = 5\n",
    "possibilities = [-1, 1]"
   ]
  },
  {
   "cell_type": "code",
   "execution_count": 56,
   "metadata": {},
   "outputs": [],
   "source": [
    "W = np.random.normal(size = (n_row, n_col)) \n",
    "X = np.random.choice(possibilities, n_col)\n",
    "Y = np.maximum((np.dot(W, X)/math.sqrt(n_col)), 0)\n",
    "T = 1\n",
    "B = 1/T\n",
    "n_iter = 10"
   ]
  },
  {
   "cell_type": "code",
   "execution_count": 29,
   "metadata": {},
   "outputs": [
    {
     "data": {
      "text/plain": [
       "10"
      ]
     },
     "execution_count": 29,
     "metadata": {},
     "output_type": "execute_result"
    }
   ],
   "source": [
    "len(Y)"
   ]
  },
  {
   "cell_type": "markdown",
   "metadata": {},
   "source": [
    "## Helper functions ##"
   ]
  },
  {
   "cell_type": "code",
   "execution_count": 49,
   "metadata": {},
   "outputs": [],
   "source": [
    "def energy(vector):\n",
    "    _sum = 0\n",
    "    for i in range(len(vector)):\n",
    "        _sum += (Y[i] - np.maximum(0, (np.dot(W, vector)[i])/math.sqrt(n_col)))**2\n",
    "    return _sum"
   ]
  },
  {
   "cell_type": "code",
   "execution_count": 59,
   "metadata": {},
   "outputs": [],
   "source": [
    "def error(vector):\n",
    "    return np.linalg.norm(vector - X)/(4*n_col)"
   ]
  },
  {
   "cell_type": "code",
   "execution_count": 73,
   "metadata": {},
   "outputs": [
    {
     "name": "stdout",
     "output_type": "stream",
     "text": [
      "0.2\n"
     ]
    }
   ],
   "source": [
    "#Metropolis chain\n",
    "test = np.random.choice(possibilities, n_col)\n",
    "for _iter in range(n_iter):\n",
    "    if _iter > n_iter/0.9:\n",
    "        B = B*2\n",
    "    to_flip = np.random.randint(0, n_col)\n",
    "    to_test = test\n",
    "    to_test[to_flip] = -to_test[to_flip]\n",
    "    proba = np.minimum(1, np.exp(-B*(energy(to_test)-energy(test))))\n",
    "    if random.random() < proba:\n",
    "        test = to_test\n",
    "print(error(test))    "
   ]
  },
  {
   "cell_type": "code",
   "execution_count": null,
   "metadata": {},
   "outputs": [],
   "source": []
  }
 ],
 "metadata": {
  "kernelspec": {
   "display_name": "Python 3",
   "language": "python",
   "name": "python3"
  },
  "language_info": {
   "codemirror_mode": {
    "name": "ipython",
    "version": 3
   },
   "file_extension": ".py",
   "mimetype": "text/x-python",
   "name": "python",
   "nbconvert_exporter": "python",
   "pygments_lexer": "ipython3",
   "version": "3.7.0"
  }
 },
 "nbformat": 4,
 "nbformat_minor": 2
}

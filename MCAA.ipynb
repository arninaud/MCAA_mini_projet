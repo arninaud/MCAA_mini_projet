{
 "cells": [
  {
   "cell_type": "markdown",
   "metadata": {},
   "source": [
    "## Imports ##"
   ]
  },
  {
   "cell_type": "code",
   "execution_count": 4,
   "metadata": {},
   "outputs": [],
   "source": [
    "import numpy as np\n",
    "import pandas as pd\n",
    "import math\n",
    "from numpy import random\n",
    "from numpy import linalg"
   ]
  },
  {
   "cell_type": "markdown",
   "metadata": {},
   "source": [
    "## Input ##"
   ]
  },
  {
   "cell_type": "code",
   "execution_count": 77,
   "metadata": {},
   "outputs": [],
   "source": [
    "n_row = 500\n",
    "n_col = 500\n",
    "possibilities = [-1, 1]"
   ]
  },
  {
   "cell_type": "code",
   "execution_count": 87,
   "metadata": {},
   "outputs": [],
   "source": [
    "W = np.random.normal(size = (n_row, n_col)) \n",
    "X = np.random.choice(possibilities, n_col)\n",
    "Y = np.maximum((np.dot(W, X)/math.sqrt(n_col)), 0)\n",
    "T = 1\n",
    "B = 1/T\n",
    "n_iter = 25\n",
    "N = 100"
   ]
  },
  {
   "cell_type": "markdown",
   "metadata": {},
   "source": [
    "## Helper functions ##"
   ]
  },
  {
   "cell_type": "code",
   "execution_count": 60,
   "metadata": {},
   "outputs": [],
   "source": [
    "def energy(vector):\n",
    "    _sum = 0\n",
    "    for i in range(len(vector)):\n",
    "        _sum += (Y[i] - np.maximum(0, (np.dot(W, vector)[i])/math.sqrt(n_col)))**2\n",
    "    return _sum"
   ]
  },
  {
   "cell_type": "code",
   "execution_count": 61,
   "metadata": {},
   "outputs": [],
   "source": [
    "def error(vector):\n",
    "    return np.linalg.norm(vector - X)/(4*n_col)"
   ]
  },
  {
   "cell_type": "code",
   "execution_count": 62,
   "metadata": {},
   "outputs": [],
   "source": [
    "def Metropolis_chain(dim, n_iter, B, treshold, rate):\n",
    "    test = np.random.choice(possibilities, dim)\n",
    "    for _iter in range(n_iter):\n",
    "        if _iter > n_iter*treshold:\n",
    "            B = B*rate\n",
    "        to_flip = np.random.randint(0, dim)\n",
    "        to_test = test\n",
    "        to_test[to_flip] = -to_test[to_flip]\n",
    "        proba = np.minimum(1, np.exp(-B*(energy(to_test)-energy(test))))\n",
    "        if random.random() < proba:\n",
    "            test = to_test\n",
    "    return error(test)    "
   ]
  },
  {
   "cell_type": "code",
   "execution_count": 67,
   "metadata": {},
   "outputs": [],
   "source": [
    "def Glauber(dim, n_iter, B, treshold, rate):\n",
    "    test = np.random.choice(possibilities, dim)\n",
    "    for _iter in range(n_iter):\n",
    "        if _iter > n_iter*treshold:\n",
    "            B = B*rate\n",
    "        to_flip = np.random.randint(0, dim)\n",
    "        proba = (1 + test[to_flip]*math.tanh(B*(energy(test * -1) - energy(test))))/2.0\n",
    "        if random.random() < proba:\n",
    "            test[to_flip] = 1 \n",
    "        else:\n",
    "            test[to_flip] = -1\n",
    "    return error(test)"
   ]
  },
  {
   "cell_type": "markdown",
   "metadata": {},
   "source": [
    "## Optimization ##"
   ]
  },
  {
   "cell_type": "code",
   "execution_count": 85,
   "metadata": {},
   "outputs": [],
   "source": [
    "t_tresholds = np.linspace(0.50, 0.95, num=10)\n",
    "t_increasing = np.linspace(1.5, 5, num=8)\n",
    "best_error = 1e6\n",
    "best_set_up = None\n",
    "for treshold in t_tresholds:\n",
    "    for increasing in t_increasing:\n",
    "        for test in range(10):\n",
    "            metro_results = []\n",
    "            glauber_results = []\n",
    "            metro_error = Metropolis_chain(n_col, n_iter, B, treshold, increasing)\n",
    "            glauber_error = Glauber(n_col, n_iter, B, treshold, increasing)\n",
    "            metro_results.append(metro_error)\n",
    "            glauber_results.append(glauber_error)\n",
    "        metro_mean = np.mean(metro_results)\n",
    "        if(metro_mean < best_error):\n",
    "            best_error = metro_mean\n",
    "            best_set_up = (\"Metropolis\", \"treshold :\",treshold, \"rate :\", increasing, \"error :\", best_error)\n",
    "        glauber_mean = np.mean(glauber_results)\n",
    "        if(glauber_mean < best_error):\n",
    "            best_error = glauber_mean\n",
    "            best_set_up = (\"Glauber \" ,\"treshold :\",treshold, \"rate :\", increasing, \"error :\", best_error)"
   ]
  },
  {
   "cell_type": "markdown",
   "metadata": {},
   "source": [
    "## Results ##  "
   ]
  },
  {
   "cell_type": "code",
   "execution_count": null,
   "metadata": {},
   "outputs": [],
   "source": [
    "errors = []\n",
    "for i i range(N):\n",
    "    error = #Glauber ou Metropolis_chain selon best_set_up\n",
    "    errors.append(error)\n",
    "mean = np.mean(errors)\n",
    "variance = np.var(errors)\n",
    "print('Mean error : ', mean)\n",
    "print('Variance of error : ' variance)"
   ]
  },
  {
   "cell_type": "code",
   "execution_count": 86,
   "metadata": {},
   "outputs": [
    {
     "data": {
      "text/plain": [
       "('Metropolis', 'treshold :', 0.5, 'rate :', 5.0, 'error :', 0.015)"
      ]
     },
     "execution_count": 86,
     "metadata": {},
     "output_type": "execute_result"
    }
   ],
   "source": [
    "best_set_up"
   ]
  },
  {
   "cell_type": "code",
   "execution_count": 82,
   "metadata": {},
   "outputs": [
    {
     "data": {
      "text/plain": [
       "array([1.5, 2. , 2.5, 3. , 3.5, 4. , 4.5, 5. ])"
      ]
     },
     "execution_count": 82,
     "metadata": {},
     "output_type": "execute_result"
    }
   ],
   "source": [
    "t_increasing = np.linspace(1.5, 5, num=8)\n",
    "t_increasing"
   ]
  },
  {
   "cell_type": "code",
   "execution_count": null,
   "metadata": {},
   "outputs": [],
   "source": [
    "BEST_SO_FAR = 0.01411756195508118 #Metropolis_chain(n_col, 100, B) 0.8"
   ]
  }
 ],
 "metadata": {
  "kernelspec": {
   "display_name": "Python 3",
   "language": "python",
   "name": "python3"
  },
  "language_info": {
   "codemirror_mode": {
    "name": "ipython",
    "version": 3
   },
   "file_extension": ".py",
   "mimetype": "text/x-python",
   "name": "python",
   "nbconvert_exporter": "python",
   "pygments_lexer": "ipython3",
   "version": "3.7.0"
  }
 },
 "nbformat": 4,
 "nbformat_minor": 2
}

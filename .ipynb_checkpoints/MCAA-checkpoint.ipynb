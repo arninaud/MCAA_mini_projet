{
 "cells": [
  {
   "cell_type": "markdown",
   "metadata": {},
   "source": [
    "## Imports ##"
   ]
  },
  {
   "cell_type": "code",
   "execution_count": 1,
   "metadata": {},
   "outputs": [],
   "source": [
    "import numpy as np\n",
    "import pandas as pd\n",
    "import math\n",
    "from numpy import random\n",
    "from numpy import linalg"
   ]
  },
  {
   "cell_type": "markdown",
   "metadata": {},
   "source": [
    "## Input ##"
   ]
  },
  {
   "cell_type": "code",
   "execution_count": 70,
   "metadata": {},
   "outputs": [],
   "source": [
    "m_row = 1000\n",
    "n_col = 10000 # needs to be big\n",
    "possibilities = [-1, 1]"
   ]
  },
  {
   "cell_type": "code",
   "execution_count": 71,
   "metadata": {},
   "outputs": [
    {
     "name": "stdout",
     "output_type": "stream",
     "text": [
      "(1000, 10000) (10000,) (1000,)\n"
     ]
    }
   ],
   "source": [
    "def initialize(m_row, n_col):\n",
    "    W = np.random.normal(size = (m_row, n_col)) \n",
    "    X = np.random.choice(possibilities, n_col)\n",
    "    Y = np.maximum((np.dot(W, X)/math.sqrt(n_col)), 0)\n",
    "    return W, X, Y\n",
    "\n",
    "W, X, Y = initialize(m_row, n_col)\n",
    "T = 1\n",
    "B = 1/T\n",
    "n_iter = 10\n",
    "\n",
    "print(np.shape(W), np.shape(X), np.shape(Y))"
   ]
  },
  {
   "cell_type": "markdown",
   "metadata": {},
   "source": [
    "## Helper functions ##"
   ]
  },
  {
   "cell_type": "code",
   "execution_count": 98,
   "metadata": {},
   "outputs": [],
   "source": [
    "def energy(vector):\n",
    "    _sum = 0\n",
    "    dot_product = np.dot(W, vector)\n",
    "    for i in range(len(W)):\n",
    "        _sum += (Y[i] - np.maximum(0, dot_product[i]/math.sqrt(n_col)))**2\n",
    "    return _sum"
   ]
  },
  {
   "cell_type": "code",
   "execution_count": 99,
   "metadata": {},
   "outputs": [
    {
     "name": "stdout",
     "output_type": "stream",
     "text": [
      "True\n"
     ]
    }
   ],
   "source": [
    "print(energy(X) == 0.0)"
   ]
  },
  {
   "cell_type": "code",
   "execution_count": 100,
   "metadata": {},
   "outputs": [],
   "source": [
    "def error(vector):\n",
    "    return np.linalg.norm(vector - X)/(4*n_col)"
   ]
  },
  {
   "cell_type": "code",
   "execution_count": 101,
   "metadata": {},
   "outputs": [],
   "source": [
    "def Metropolis_chain(dim, n_iter, B, change_B):\n",
    "    test = np.random.choice(possibilities, dim)\n",
    "    errors = []\n",
    "    low_energy = 10000\n",
    "    \n",
    "    for _iter in range(n_iter):\n",
    "        if _iter % change_B == 0:\n",
    "            B = B*2\n",
    "            T = 1.0 / B\n",
    "            #print(\"Iter {}: B = {} T = {}\".format(_iter, B, T))\n",
    "            #print(\"Energy: {}\".format(energy(test)))\n",
    "            \n",
    "        to_flip = np.random.randint(0, dim)\n",
    "        to_test = np.copy(test)\n",
    "        to_test[to_flip] = -to_test[to_flip]\n",
    "        proba = np.minimum(1, np.exp(-B*(energy(to_test)-energy(test))))\n",
    "        if random.random() < proba:\n",
    "            # Accepted case\n",
    "            test = to_test\n",
    "            \n",
    "        # Save new error term for plot\n",
    "        errors.append(error(test))\n",
    "        # Save lowest energy\n",
    "        ener = energy(test)\n",
    "        if ener < low_energy:\n",
    "            low_energy = ener\n",
    "            \n",
    "    return test, low_energy, errors    "
   ]
  },
  {
   "cell_type": "code",
   "execution_count": 102,
   "metadata": {},
   "outputs": [],
   "source": [
    "def Glauber(dim, n_iter, B):\n",
    "    test = np.random.choice(possibilities, dim)\n",
    "    for _iter in range(n_iter):\n",
    "        if _iter > n_iter/0.9:\n",
    "            B = B*2\n",
    "        to_flip = np.random.randint(0, dim)\n",
    "        proba = (1 + test[to_flip]*math.tanh(B*(energy(test * -1) - energy(test))))/2.0\n",
    "        if random.random() < proba:\n",
    "            test[to_flip] = 1 \n",
    "        else:\n",
    "            test[to_flip] = -1\n",
    "    return test, error(test)"
   ]
  },
  {
   "cell_type": "code",
   "execution_count": 103,
   "metadata": {},
   "outputs": [
    {
     "name": "stdout",
     "output_type": "stream",
     "text": [
      "Start\n",
      "init_B: 0.1 change_B: 2 energy: 444.4237458448838\n",
      "init_B: 0.1 change_B: 5 energy: 477.3635012544742\n",
      "init_B: 0.1 change_B: 10 energy: 433.6029711406104\n",
      "init_B: 0.1 change_B: 20 energy: 446.6967689011138\n",
      "init_B: 0.1 change_B: 50 energy: 418.161792832904\n",
      "init_B: 0.1 change_B: 75 energy: 459.610228074645\n",
      "init_B: 0.1 change_B: 100 energy: 465.94527043975125\n",
      "init_B: 0.1 change_B: 150 energy: 504.085762193623\n",
      "init_B: 0.25 change_B: 2 energy: 443.50944952185046\n",
      "init_B: 0.25 change_B: 5 energy: 450.0673427670765\n",
      "init_B: 0.25 change_B: 10 energy: 452.7454178680771\n",
      "init_B: 0.25 change_B: 20 energy: 484.71130810511\n",
      "init_B: 0.25 change_B: 50 energy: 443.1068253107573\n",
      "init_B: 0.25 change_B: 75 energy: 505.50650375657057\n",
      "init_B: 0.25 change_B: 100 energy: 473.5301659674238\n",
      "init_B: 0.25 change_B: 150 energy: 460.188500442851\n",
      "init_B: 0.5 change_B: 2 energy: 446.3301484573286\n",
      "init_B: 0.5 change_B: 5 energy: 452.5969832071845\n",
      "init_B: 0.5 change_B: 10 energy: 483.1361132700293\n",
      "init_B: 0.5 change_B: 20 energy: 466.61072520854145\n",
      "init_B: 0.5 change_B: 50 energy: 452.9558456124764\n",
      "init_B: 0.5 change_B: 75 energy: 495.2812480879604\n",
      "init_B: 0.5 change_B: 100 energy: 461.4330897291961\n",
      "init_B: 0.5 change_B: 150 energy: 506.69494094308527\n",
      "init_B: 1 change_B: 2 energy: 490.992504344895\n",
      "init_B: 1 change_B: 5 energy: 442.7719985381245\n",
      "init_B: 1 change_B: 10 energy: 437.00219805594884\n",
      "init_B: 1 change_B: 20 energy: 448.3263310211281\n",
      "init_B: 1 change_B: 50 energy: 453.73400270687387\n",
      "init_B: 1 change_B: 75 energy: 465.56472599340515\n",
      "init_B: 1 change_B: 100 energy: 442.95534211242403\n",
      "init_B: 1 change_B: 150 energy: 513.6792617172665\n",
      "init_B: 5 change_B: 2 energy: 423.0848414194651\n",
      "init_B: 5 change_B: 5 energy: 479.1534157126851\n",
      "init_B: 5 change_B: 10 energy: 456.43174849301795\n",
      "init_B: 5 change_B: 20 energy: 478.5265714048669\n",
      "init_B: 5 change_B: 50 energy: 490.5954772897705\n",
      "init_B: 5 change_B: 75 energy: 447.9049264284094\n",
      "init_B: 5 change_B: 100 energy: 440.57271992973597\n",
      "init_B: 5 change_B: 150 energy: 450.2275617310863\n",
      "init_B: 10 change_B: 2 energy: 438.61798450608137\n",
      "init_B: 10 change_B: 5 energy: 413.06423628099867\n",
      "init_B: 10 change_B: 10 energy: 475.4995263907235\n",
      "init_B: 10 change_B: 20 energy: 438.72672150453093\n",
      "init_B: 10 change_B: 50 energy: 427.57888915724317\n",
      "init_B: 10 change_B: 75 energy: 489.1731839029566\n",
      "init_B: 10 change_B: 100 energy: 459.1834700068574\n",
      "init_B: 10 change_B: 150 energy: 422.63515380360576\n"
     ]
    }
   ],
   "source": [
    "# Run of Metropolis algo to find best parameters:\n",
    "dim = len(X)\n",
    "inits_B = [0.1, 0.25, 0.5, 1, 5, 10] # different initialization for B\n",
    "changes_B = [2, 5, 10, 20, 50, 75, 100, 150] # different number of iterations before increasing B\n",
    "\n",
    "lowest_energy = 10000\n",
    "best_errors = []\n",
    "best_init_B = 0\n",
    "best_change_B = 0\n",
    "\n",
    "print('Start')\n",
    "for init_B in inits_B:\n",
    "    for change_B in changes_B:\n",
    "        X_hat, ener, metropolis_errs = Metropolis_chain(dim, 1000, init_B, change_B)\n",
    "        if ener < lowest_energy:\n",
    "            lowest_energy = ener\n",
    "            best_errors = metropolis_errs\n",
    "            best_init_B = init_B\n",
    "            best_change_B = change_B\n",
    "        print(\"init_B: {} change_B: {} energy: {}\".format(init_B, change_B, ener))"
   ]
  },
  {
   "cell_type": "code",
   "execution_count": null,
   "metadata": {},
   "outputs": [],
   "source": []
  }
 ],
 "metadata": {
  "kernelspec": {
   "display_name": "Python 3",
   "language": "python",
   "name": "python3"
  },
  "language_info": {
   "codemirror_mode": {
    "name": "ipython",
    "version": 3
   },
   "file_extension": ".py",
   "mimetype": "text/x-python",
   "name": "python",
   "nbconvert_exporter": "python",
   "pygments_lexer": "ipython3",
   "version": "3.6.6"
  }
 },
 "nbformat": 4,
 "nbformat_minor": 2
}
